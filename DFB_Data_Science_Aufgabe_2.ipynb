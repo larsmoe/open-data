{
 "cells": [
  {
   "cell_type": "markdown",
   "metadata": {
    "collapsed": false,
    "jupyter": {
     "outputs_hidden": false
    },
    "pycharm": {
     "name": "#%% md\n"
    }
   },
   "source": [
    "# Task 2 - Corners"
   ]
  },
  {
   "cell_type": "code",
   "execution_count": null,
   "outputs": [],
   "source": [
    "import os\n",
    "import json\n",
    "import matplotlib.pyplot as plt\n",
    "from collections import defaultdict\n",
    "from scipy.stats import chi2_contingency\n",
    "import numpy as np\n",
    "from mplsoccer import Pitch\n",
    "from matplotlib.patches import Rectangle\n",
    "\n",
    "YARDS_TO_METER = 0.9144"
   ],
   "metadata": {
    "collapsed": false,
    "pycharm": {
     "name": "#%%\n"
    }
   }
  },
  {
   "cell_type": "markdown",
   "source": [
    "## Preprocessing"
   ],
   "metadata": {
    "collapsed": false,
    "pycharm": {
     "name": "#%% md\n"
    }
   }
  },
  {
   "cell_type": "markdown",
   "source": [
    "The goal of this step to create a new json containing only the actual corners from each match. Basically what happens that we first iterate over all json files and save all corners and events from corners (as I was not sure whether I needed them) in a file. As this is too large too analyze we then extract only the actual corners in a new file. Additionally we added the match id to each event to have this information as well (using the file name). Moreover, we created another json containing the most important match infos of each match in the dataset. Last, as by Statsbomb definition almost all corners are passes we removed the few shots (around 30 from the over 30.000 corners) to make the analysis simpler. The few shots are too few to generate any significant knowledge. Overall the following are created in this process:\n",
    "- corner_event.json: containing all corner-related events (corners and events after a corner) from all matches in the dataset\n",
    "- only_corner_events.json: containing only the corner events from all matches in the dataset\n",
    "- corner_shots_events.json: contaning all information from the few corners that are shots from all matches in the dataset\n",
    "- corner_pass_events.json: containing all information from the (almost all) corners that are passes from all matches in the dataset\n",
    "- all_matches.json: containing the basic information from all matches in the dataset in one file\n",
    "- all_360_corners: containing the position data for each corner along with basic information of each corner for all three-sixty matches (excpect three matches where the three-sixty data was corrupted, which however should not influence the results in a meaningful way)"
   ],
   "metadata": {
    "collapsed": false,
    "pycharm": {
     "name": "#%% md\n"
    }
   }
  },
  {
   "cell_type": "code",
   "execution_count": null,
   "outputs": [],
   "source": [
    "# Function to process a single JSON file and extract relevant corner events and corner-related events\n",
    "def process_json_file(file_path, match_id):\n",
    "    with open(file_path, 'r', encoding='utf-8') as f:\n",
    "        data = json.load(f)\n",
    "        corner_events = []\n",
    "\n",
    "        # Loop through each event in the file\n",
    "        for event in data:\n",
    "            # Check if the event is related to a corner based on pass, shot, or play_pattern\n",
    "            if 'pass' in event and 'type' in event['pass'] and event['pass']['type']['id'] == 61:  # Corner Pass\n",
    "                event['match_id'] = match_id\n",
    "                corner_events.append(event)\n",
    "            elif 'shot' in event and 'type' in event['shot'] and event['shot']['type']['id'] == 61:  # Corner Shot\n",
    "                event['match_id'] = match_id\n",
    "                corner_events.append(event)\n",
    "            elif 'play_pattern' in event and event['play_pattern']['id'] == 2:  # Play Pattern from Corner\n",
    "                event['match_id'] = match_id\n",
    "                corner_events.append(event)\n",
    "\n",
    "        return corner_events\n",
    "\n",
    "\n",
    "# Main function to loop through all files and collect corner events\n",
    "def process_event_files(folder_path):\n",
    "    all_corner_events = []\n",
    "\n",
    "    # Loop through each file in the directory\n",
    "    for subdir, _, files in os.walk(folder_path):\n",
    "        for i, file in enumerate(files):\n",
    "            if file.endswith('.json'):\n",
    "                if i%100 == 0:\n",
    "                    print(i, 100*(i/3434))\n",
    "                match_id = os.path.splitext(file)[0]  # Extract match ID from filename\n",
    "                file_path = os.path.join(subdir, file)\n",
    "                corner_events = process_json_file(file_path, match_id)\n",
    "                all_corner_events.extend(corner_events)  # Collect all corner events\n",
    "\n",
    "    return all_corner_events\n",
    "\n",
    "\n",
    "# Specify the path to the folder containing the event JSON files\n",
    "folder_path = 'data/events'\n",
    "\n",
    "# Process all files and get corner events\n",
    "all_corner_events = process_event_files(folder_path)\n",
    "\n",
    "# Save the corner events to a new JSON file\n",
    "with open('corner_events.json', 'w') as outfile:\n",
    "    json.dump(all_corner_events, outfile, indent=4)\n",
    "\n",
    "total_events = len(all_corner_events)\n",
    "print(f\"Total number of corner-related events saved: {total_events}\")\n",
    "\n",
    "print(f\"All corner-related events saved to 'corner_events.json'\")"
   ],
   "metadata": {
    "collapsed": false,
    "pycharm": {
     "name": "#%%\n"
    }
   }
  },
  {
   "cell_type": "code",
   "execution_count": null,
   "outputs": [],
   "source": [
    "#extarcting only the specific corner events from the previous generated file (based on the time constraints of the task it is not  to analyze the events after a corner)\n",
    "file_path = 'corner_events.json'\n",
    "\n",
    "with open(file_path, 'r', encoding='utf-8') as f:\n",
    "    data = json.load(f)\n",
    "    corner_events = []\n",
    "\n",
    "    # Loop through each event in the file\n",
    "    for i, event in enumerate(data):\n",
    "        # Check if the event is related to a corner based on pass, shot, or play_pattern\n",
    "        if 'pass' in event and 'type' in event['pass'] and event['pass']['type']['id'] == 61:  # Corner Pass\n",
    "            corner_events.append(event)\n",
    "        elif 'shot' in event and 'type' in event['shot'] and event['shot']['type']['id'] == 61:  # Corner Shot\n",
    "            corner_events.append(event)\n",
    "\n",
    "# Save the corner events to a new JSON file\n",
    "with open('only_corner_events.json', 'w') as outfile:\n",
    "    json.dump(corner_events, outfile, indent=4)"
   ],
   "metadata": {
    "collapsed": false,
    "pycharm": {
     "name": "#%%\n"
    }
   }
  },
  {
   "cell_type": "code",
   "execution_count": null,
   "outputs": [],
   "source": [
    "#creating a file that contains all relevant information from all matches in one file instead of being distributed over several files and folders\n",
    "def process_json_file(file_path):\n",
    "    with open(file_path, 'r', encoding='utf-8') as f:\n",
    "        data = json.load(f)\n",
    "        match_data = {}\n",
    "        for match in data:\n",
    "            match_id = match['match_id']\n",
    "            match_info = {\n",
    "                'match_date': match['match_date'],\n",
    "                'season_id': match['season']['season_id'],\n",
    "                'season_name': match['season']['season_name'],\n",
    "                \"competition_id\": match['competition']['competition_id'],\n",
    "                \"country_name\": match['competition']['country_name'],\n",
    "                \"competition_name\": match['competition']['competition_name'],\n",
    "                \"gender\": match['home_team']['home_team_gender']\n",
    "            }\n",
    "            match_data[match_id] = match_info\n",
    "        return match_data\n",
    "\n",
    "\n",
    "# Main function to iterate over folders and files\n",
    "def process_matches_folder(folder_path):\n",
    "    all_matches = {}\n",
    "\n",
    "    # Walk through each subfolder and file in the main folder\n",
    "    for subdir, dirs, files in os.walk(folder_path):\n",
    "        for file in files:\n",
    "            if file.endswith('.json'):\n",
    "                file_path = os.path.join(subdir, file)\n",
    "                match_data = process_json_file(file_path)\n",
    "                all_matches.update(match_data)\n",
    "\n",
    "    # Save all matches to a single JSON file\n",
    "    output_file = 'all_matches.json'\n",
    "    with open(output_file, 'w') as outfile:\n",
    "        json.dump(all_matches, outfile, indent=4)\n",
    "    print(f'All matches have been saved to {output_file}')\n",
    "\n",
    "\n",
    "# Specify the path to the folder containing the subfolders and JSON files\n",
    "folder_path = 'data/matches'\n",
    "process_matches_folder(folder_path)"
   ],
   "metadata": {
    "collapsed": false,
    "pycharm": {
     "name": "#%%\n"
    }
   }
  },
  {
   "cell_type": "code",
   "execution_count": null,
   "outputs": [],
   "source": [
    "#creating a file with only corner passes to avoid having to deal with the very few corner (around 30 of over 30.000) shots in all following analyses and saving them\n",
    "#in a extra file, which will be the basis for all analyses in Task 2a)\n",
    "with open('only_corner_events.json', 'r') as f:\n",
    "    corner_events = json.load(f)\n",
    "\n",
    "# Filter only the shot events\n",
    "shot_events = [event for event in corner_events if event['type']['name'] == 'Shot']\n",
    "pass_events = [event for event in corner_events if event['type']['name'] == 'Pass']\n",
    "\n",
    "# Save the shot events to a new JSON file\n",
    "with open('corner_shot_events.json', 'w') as outfile:\n",
    "    json.dump(shot_events, outfile, indent=4)\n",
    "with open('corner_pass_events.json', 'w') as outfile:\n",
    "    json.dump(pass_events, outfile, indent=4)\n",
    "\n",
    "print(f\"Total number of corner shots: {len(shot_events)}\")\n",
    "print(f\"Total number of corner shots: {len(pass_events)}\")"
   ],
   "metadata": {
    "collapsed": false,
    "pycharm": {
     "name": "#%%\n"
    }
   }
  },
  {
   "cell_type": "code",
   "execution_count": null,
   "outputs": [],
   "source": [
    "#creating a file containing all information on the corners from the three-sixty matches (position data + information on the corner)\n",
    "\n",
    "# File paths and directories\n",
    "corners_file = 'corner_pass_events.json'\n",
    "matches_dir = 'data/three-sixty'\n",
    "output_file = 'all_360_corners.json'\n",
    "\n",
    "# Load the corners data\n",
    "with open(corners_file, 'r') as file:\n",
    "    corners_data = json.load(file)\n",
    "\n",
    "# Create a mapping of corner event IDs to their locations\n",
    "corner_locations = {corner_event['id']: corner_event['location'] for corner_event in corners_data}\n",
    "corner_pass_info = {corner_event['id']: corner_event['pass'] for corner_event in corners_data}\n",
    "\n",
    "# Initialize a list to store all corner events with match IDs\n",
    "all_corner_events = [] # To store the number of corners per match\n",
    "corner_count = 0\n",
    "\n",
    "# Loop through all match files in the directory\n",
    "for filename in os.listdir(matches_dir):\n",
    "    print(corner_count)\n",
    "    if filename.endswith('.json'):\n",
    "        match_id = filename.replace('.json', '')  # Extract match_id from filename\n",
    "        match_file_path = os.path.join(matches_dir, filename)\n",
    "\n",
    "        with open(match_file_path, 'r', encoding='utf-8') as match_file:\n",
    "            try:\n",
    "                events_data = json.load(match_file)\n",
    "            except json.decoder.JSONDecodeError:\n",
    "                print('Error')\n",
    "                print(match_file_path)\n",
    "                continue\n",
    "\n",
    "            # Loop through events to find matches with corner events\n",
    "            for event in events_data:\n",
    "                event_id = event['event_uuid']\n",
    "                if event_id in corner_locations:\n",
    "                    # Increment the corner count for this match\n",
    "                    corner_count += 1\n",
    "\n",
    "                    # If it's a corner, append the event data with the match ID and corner location\n",
    "                    corner_event_data = {\n",
    "                        'match_id': match_id,\n",
    "                        'event_id': event_id,\n",
    "                        'freeze_frame': event.get('freeze_frame', []),\n",
    "                        'location': corner_locations[event_id],  # Get the location from corners_data\n",
    "                        'pass': corner_pass_info[event_id]\n",
    "                    }\n",
    "                    all_corner_events.append(corner_event_data)\n",
    "\n",
    "# Write all corner events and corner counts to a new file\n",
    "\n",
    "with open(output_file, 'w') as outfile:\n",
    "    json.dump(all_corner_events, outfile, indent=4)\n",
    "\n",
    "print(f\"All corner events have been successfully extracted and saved to {output_file}.\")\n",
    "print(f\"Corners total: {corner_count}.\")"
   ],
   "metadata": {
    "collapsed": false,
    "pycharm": {
     "name": "#%%\n"
    }
   }
  },
  {
   "cell_type": "markdown",
   "source": [
    "### Taking a look on the matches in the Dataset"
   ],
   "metadata": {
    "collapsed": false,
    "pycharm": {
     "name": "#%% md\n"
    }
   }
  },
  {
   "cell_type": "code",
   "execution_count": null,
   "outputs": [],
   "source": [
    "with open('all_matches.json', 'r', encoding='utf-8') as f:\n",
    "    all_matches = json.load(f)\n",
    "\n",
    "matches_per_season = defaultdict(lambda: {'male': 0, 'female': 0})\n",
    "matches_per_country = defaultdict(int)\n",
    "matches_per_season_country = defaultdict(lambda: defaultdict(int))\n",
    "\n",
    "# Count the matches by season, gender, and country\n",
    "for match_id, match_info in all_matches.items():\n",
    "    season = match_info['season_name']\n",
    "    gender = match_info['gender']\n",
    "    country = match_info['country_name']\n",
    "\n",
    "    matches_per_season[season][gender] += 1\n",
    "    matches_per_country[country] += 1\n",
    "    matches_per_season_country[season][country] += 1\n",
    "\n",
    "# Sort the matches by season\n",
    "sorted_seasons = sorted(matches_per_season.keys())\n",
    "\n",
    "# Print the total number of matches\n",
    "total_matches = sum(sum(gender_data.values()) for gender_data in matches_per_season.values())\n",
    "print(f'Total number of matches: {total_matches}')\n",
    "\n",
    "# Print the number of matches per season, ordered by season\n",
    "for season in sorted_seasons:\n",
    "    counts = matches_per_season[season]\n",
    "    print(f\"Season: {season}, Male: {counts['male']}, Female: {counts['female']}\")\n",
    "\n",
    "all_countries = set()\n",
    "for season in matches_per_season_country:\n",
    "    all_countries.update(matches_per_season_country[season].keys())\n",
    "sorted_countries = sorted(all_countries)\n",
    "country_counts_per_season = {country: [matches_per_season_country[season][country] for season in sorted_seasons] for country in sorted_countries}\n",
    "\n",
    "# Prepare data for the first plot (matches per season)\n",
    "male_counts = [matches_per_season[season]['male'] for season in sorted_seasons]\n",
    "female_counts = [matches_per_season[season]['female'] for season in sorted_seasons]\n",
    "\n",
    "# Plot the number of matches per season\n",
    "plt.figure(figsize=(10, 6))\n",
    "plt.bar(sorted_seasons, male_counts, label='Male matches', color='blue', alpha=0.6)\n",
    "plt.bar(sorted_seasons, female_counts, label='Female matches', color='pink', alpha=0.6, bottom=male_counts)\n",
    "plt.xlabel('Season')\n",
    "plt.ylabel('Number of Matches')\n",
    "plt.title('Number of Matches per Season (Male vs Female)')\n",
    "plt.xticks(rotation=45, ha='right')\n",
    "plt.legend()\n",
    "plt.tight_layout()\n",
    "\n",
    "# Prepare data for the second plot (matches per country)\n",
    "sorted_countries = sorted(matches_per_country.keys(), key=lambda x: matches_per_country[x], reverse=True)\n",
    "country_counts = [matches_per_country[country] for country in sorted_countries]\n",
    "\n",
    "# Plot the number of matches per country\n",
    "plt.figure(figsize=(10, 6))\n",
    "plt.bar(sorted_countries, country_counts, color='green', alpha=0.7)\n",
    "plt.xlabel('Country')\n",
    "plt.ylabel('Number of Matches')\n",
    "plt.title('Number of Matches per Country')\n",
    "plt.xticks(rotation=45, ha='right')\n",
    "plt.tight_layout()\n",
    "\n",
    "# Plot the stacked bar chart for matches per season by country\n",
    "plt.figure(figsize=(10, 6))\n",
    "\n",
    "bottom_stack = [0] * len(sorted_seasons)  # Initialize the bottom stack for each season\n",
    "\n",
    "# Add each country to the plot\n",
    "for country in sorted_countries:\n",
    "    counts = country_counts_per_season[country]\n",
    "    plt.bar(sorted_seasons, counts, label=country, bottom=bottom_stack)\n",
    "    bottom_stack = [i + j for i, j in zip(bottom_stack, counts)]  # Update bottom stack\n",
    "\n",
    "# Configure the plot\n",
    "plt.xlabel('Season')\n",
    "plt.ylabel('Number of Matches')\n",
    "plt.title('Number of Matches per Season (Stacked by Country)')\n",
    "plt.xticks(rotation=45, ha='right')\n",
    "plt.legend(title=\"Country\", bbox_to_anchor=(1.05, 1), loc='upper left')\n",
    "plt.tight_layout()\n",
    "\n",
    "# Display the plot\n",
    "plt.show()"
   ],
   "metadata": {
    "collapsed": false,
    "pycharm": {
     "name": "#%%\n"
    }
   }
  },
  {
   "cell_type": "markdown",
   "source": [
    "You can see that the distribution of matches in the dataset is very uneven in terms og seasons. By far the most matches in the dataset are from the season 2015/2016. This makes analyses regarding the development of corners over time very difficult as for most seasons the number of matches is too low to make significant claims with sufficient certainty.\\\n",
    "Moreover there are very little female matches, therefore for the sake of simplicity (and lack of time) we do not differentiate between corners in male and female matches.\\\n",
    "Analyses regarding the country were certainly interesting but are out of the scope of this analysis as well."
   ],
   "metadata": {
    "collapsed": false,
    "pycharm": {
     "name": "#%% md\n"
    }
   }
  },
  {
   "cell_type": "markdown",
   "source": [
    "## 2a) Use the whole data set of Free Statsbomb Data to help you find general offensive trends."
   ],
   "metadata": {
    "collapsed": false,
    "pycharm": {
     "name": "#%% md\n"
    }
   }
  },
  {
   "cell_type": "markdown",
   "source": [
    "### Analysing the pass height of the corners of the years\n",
    "First, we want to take a look whether there is a development regrading the pass height. For example, whether there are more ground passes today than in the past"
   ],
   "metadata": {
    "collapsed": false,
    "pycharm": {
     "name": "#%% md\n"
    }
   }
  },
  {
   "cell_type": "code",
   "execution_count": null,
   "outputs": [],
   "source": [
    "with open('corner_pass_events.json', 'r') as f:\n",
    "    passes = json.load(f)\n",
    "\n",
    "# Load the match data\n",
    "with open('all_matches.json', 'r') as f:\n",
    "    all_matches = json.load(f)\n",
    "\n",
    "# Initialize dictionaries to count pass heights by season\n",
    "pass_heights_by_season = defaultdict(lambda: defaultdict(int))\n",
    "season_total_passes = defaultdict(int)\n",
    "corners_per_season = defaultdict(int)\n",
    "overall_pass_heights = defaultdict(int)\n",
    "total_passes_overall = 0\n",
    "\n",
    "# Loop through passes and match each pass with its corresponding season\n",
    "for event in passes:\n",
    "    match_id = event['match_id']  # Assuming match_id exists in the pass data\n",
    "    if match_id in all_matches:\n",
    "        season = all_matches[match_id]['season_name']\n",
    "        if 'pass' in event and 'height' in event['pass']:\n",
    "            height_name = event['pass']['height']['name']\n",
    "            pass_heights_by_season[season][height_name] += 1\n",
    "            season_total_passes[season] += 1\n",
    "            corners_per_season[season] += 1\n",
    "            overall_pass_heights[height_name] += 1\n",
    "            total_passes_overall += 1\n",
    "\n",
    "# Prepare data for plotting (calculate percentage for each height by season)\n",
    "sorted_seasons = sorted(pass_heights_by_season.keys())\n",
    "corner_counts = [corners_per_season[season] for season in sorted_seasons]\n",
    "heights = set(height for season in pass_heights_by_season for height in pass_heights_by_season[season])\n",
    "\n",
    "# Convert counts to percentages\n",
    "print(sum(season_total_passes.values()))\n",
    "print(pass_heights_by_season.values())\n",
    "percentage_by_height_season = {height: [] for height in heights}\n",
    "for season in sorted_seasons:\n",
    "    total_passes = season_total_passes[season]\n",
    "    for height in heights:\n",
    "        count = pass_heights_by_season[season].get(height, 0)\n",
    "        percentage = (count / total_passes) * 100 if total_passes > 0 else 0\n",
    "        percentage_by_height_season[height].append(percentage)\n",
    "\n",
    "# Prepare data for stackplot\n",
    "stack_data = [percentage_by_height_season[height] for height in heights]\n",
    "height_labels = list(heights)\n",
    "\n",
    "# Plot using stackplot\n",
    "plt.figure(figsize=(10, 6))\n",
    "plt.stackplot(sorted_seasons, stack_data, labels=height_labels)\n",
    "\n",
    "# Configure the plot\n",
    "plt.xlabel('Season')\n",
    "plt.ylabel('Percentage of Passes')\n",
    "plt.title('Percentage of Pass Heights by Season (Stacked)')\n",
    "plt.xticks(rotation=45, ha='right')\n",
    "plt.legend(title=\"Pass Height\", bbox_to_anchor=(1.05, 1), loc='upper left')\n",
    "plt.tight_layout()\n",
    "\n",
    "plt.figure(figsize=(10, 6))\n",
    "bars = plt.bar(sorted_seasons, corner_counts, color='skyblue')\n",
    "\n",
    "# Add numbers above the bars\n",
    "for bar in bars:\n",
    "    yval = bar.get_height()\n",
    "    plt.text(bar.get_x() + bar.get_width()/2, yval, int(yval), va='bottom', ha='center')\n",
    "\n",
    "# Configure the plot\n",
    "plt.xlabel('Season')\n",
    "plt.ylabel('Number of Corners')\n",
    "plt.title('Number of Corners per Season')\n",
    "plt.xticks(rotation=45, ha='right')\n",
    "plt.tight_layout()\n",
    "\n",
    "seasons = sorted(pass_heights_by_season.keys())\n",
    "heights = sorted({height for period_data in pass_heights_by_season.values() for height in period_data})\n",
    "\n",
    "# Construct the contingency table\n",
    "contingency_table = np.array([[pass_heights_by_season[season].get(height, 0) for height in heights] for season in seasons])\n",
    "\n",
    "# Perform the Chi-Square test\n",
    "chi2, p_value, dof, expected = chi2_contingency(contingency_table)\n",
    "\n",
    "# Output the results\n",
    "print(f\"Chi-Square Statistic: {chi2}\")\n",
    "print(f\"P-Value: {p_value}\")\n",
    "\n",
    "# Interpretation of the p-value\n",
    "alpha = 0.05\n",
    "if p_value < alpha:\n",
    "    print(\"Reject the null hypothesis: The distribution of pass heights changes across periods.\")\n",
    "else:\n",
    "    print(\"Fail to reject the null hypothesis: No significant change in the distribution of pass heights across periods.\")\n",
    "\n",
    "overall_percentage_by_height = {}\n",
    "for height, count in overall_pass_heights.items():\n",
    "    overall_percentage_by_height[height] = (count / total_passes_overall) * 100\n",
    "\n",
    "# Print the overall percentages of pass heights\n",
    "print(\"Overall Percentage of Pass Heights:\")\n",
    "for height, percentage in overall_percentage_by_height.items():\n",
    "    print(f\"{height}: {percentage:.2f}%\")\n",
    "# Show the plot\n",
    "plt.show()"
   ],
   "metadata": {
    "collapsed": false,
    "pycharm": {
     "name": "#%%\n"
    }
   }
  },
  {
   "cell_type": "markdown",
   "source": [
    "Even though the distribution of pass heights is fluctuating over time and Chi-Square-Test reveals that there is change in dstribution of the percantage of pass heights over time, there is no clear trend visible over time. Instead teh final plot reveals what already becam cear by looking on the number of matches over time. The number of corners per seaspmn is relatively low especially before the season 15/16 making statements regarding changes over time difficult. Nevertheless, overall 70-80% of all corners are high passes, with 15-20% of corners being ground passes. Low passes are played rarely. From a soccer point that makes sense ou either want a high pass in the box or a ground pass to a player close to the corner."
   ],
   "metadata": {
    "collapsed": false,
    "pycharm": {
     "name": "#%% md\n"
    }
   }
  },
  {
   "cell_type": "markdown",
   "source": [
    "### Analysisng the pass length\n",
    "Next we want to take a look on the pass lengths regading the different types of corners"
   ],
   "metadata": {
    "collapsed": false,
    "pycharm": {
     "name": "#%% md\n"
    }
   }
  },
  {
   "cell_type": "code",
   "execution_count": null,
   "outputs": [],
   "source": [
    "total_length = 0\n",
    "total_passes = 0\n",
    "length_by_type = defaultdict(lambda: {'total_length': 0, 'count': 0})\n",
    "\n",
    "# Loop through passes and calculate lengths\n",
    "for event in passes:\n",
    "    if 'pass' in event and 'length' in event['pass']:\n",
    "        pass_length = event['pass']['length']\n",
    "        total_length += pass_length\n",
    "        total_passes += 1\n",
    "\n",
    "        # Check pass type and store the length in corresponding type group\n",
    "        if 'height' in event['pass']:\n",
    "            pass_type = event['pass']['height']['name']\n",
    "            length_by_type[pass_type]['total_length'] += pass_length\n",
    "            length_by_type[pass_type]['count'] += 1\n",
    "\n",
    "# Calculate overall average length\n",
    "overall_average_length = total_length / total_passes if total_passes > 0 else 0\n",
    "\n",
    "# Calculate average length by pass type\n",
    "average_length_by_type = {pass_type: (data['total_length'] / data['count']) if data['count'] > 0 else 0\n",
    "                          for pass_type, data in length_by_type.items()}\n",
    "\n",
    "# Output the results\n",
    "print(f\"Overall average pass length: {YARDS_TO_METER*overall_average_length:.2f} meters\")\n",
    "\n",
    "print(\"\\nAverage pass length by type:\")\n",
    "for pass_type, avg_length in average_length_by_type.items():\n",
    "    print(f\"{pass_type}: {YARDS_TO_METER*avg_length:.2f} meters\")"
   ],
   "metadata": {
    "collapsed": false,
    "pycharm": {
     "name": "#%%\n"
    }
   }
  },
  {
   "cell_type": "markdown",
   "source": [
    "No surprises here, ground passes are rather short to players close to the corner, while the average high pass is around 37m long which is approx. at the goal area at the height of the first post"
   ],
   "metadata": {
    "collapsed": false,
    "pycharm": {
     "name": "#%% md\n"
    }
   }
  },
  {
   "cell_type": "markdown",
   "source": [
    "### Analyzing the end location of the corners"
   ],
   "metadata": {
    "collapsed": false,
    "pycharm": {
     "name": "#%% md\n"
    }
   }
  },
  {
   "cell_type": "code",
   "execution_count": null,
   "outputs": [],
   "source": [
    "end_locations_x = []\n",
    "end_locations_y = []\n",
    "left_end_locations_x = []\n",
    "left_end_locations_y = []\n",
    "right_end_locations_x = []\n",
    "right_end_locations_y = []\n",
    "\n",
    "# Loop through each corner pass and normalize the end location based on the corner side\n",
    "counter_left = 0\n",
    "counter_right = 0\n",
    "for event in passes:\n",
    "    # Get the starting location of the corner\n",
    "    start_x, start_y = event['location']\n",
    "\n",
    "    # Identify if it's a left or right corner and normalize\n",
    "    if (start_x < 1 and start_y < 1) or (start_x > 119 and start_y > 79):\n",
    "        # Corner from the left (either from 0,0 or 120,80)\n",
    "        counter_left +=1\n",
    "        if start_x > 119 and start_y > 79:\n",
    "            # Transform for corners taken from 120,80\n",
    "            end_x = 120 - event['pass']['end_location'][0]\n",
    "            end_y = 80 - event['pass']['end_location'][1]\n",
    "        else:\n",
    "            # No transformation needed for corners taken from 0,0\n",
    "            end_x = event['pass']['end_location'][0]\n",
    "            end_y = event['pass']['end_location'][1]\n",
    "        left_end_locations_x.append(end_x)\n",
    "        left_end_locations_y.append(end_y)\n",
    "    elif (start_x < 1 and start_y > 79) or (start_x > 119 and start_y < 1):\n",
    "        # Corner from the right (either from 0,80 or 120,0)\n",
    "        counter_right +=1\n",
    "        if (start_x < 1 and start_y > 79):\n",
    "            end_x = 120 - event['pass']['end_location'][0]\n",
    "            end_y = 80 - event['pass']['end_location'][1]\n",
    "            print(end_x, end_y)\n",
    "            break\n",
    "        else:\n",
    "            # No transformation needed for corners taken from 0,0\n",
    "            end_x = event['pass']['end_location'][0]\n",
    "            end_y = event['pass']['end_location'][1]\n",
    "        right_end_locations_x.append(end_x)\n",
    "        right_end_locations_y.append(end_y)\n",
    "\n",
    "    # Add the normalized end location to the lists\n",
    "    end_locations_x.append(end_x)\n",
    "    end_locations_y.append(end_y)\n",
    "\n",
    "print(len(end_locations_x))\n",
    "print(np.max(end_locations_x))\n",
    "print(counter_left, counter_right)\n",
    "\n",
    "# Create the heatmap data using numpy's 2D histogram\n",
    "heatmap_data, xedges, yedges = np.histogram2d(end_locations_x, end_locations_y, bins=[120, 80], range=[[0, 120], [0, 80]])\n",
    "# Create heatmap data using numpy's 2D histogram for left corners\n",
    "left_heatmap_data, xedges_left, yedges_left = np.histogram2d(left_end_locations_x, left_end_locations_y, bins=[120, 80], range=[[0, 120], [0, 80]])\n",
    "\n",
    "# Create heatmap data using numpy's 2D histogram for right corners\n",
    "right_heatmap_data, xedges_right, yedges_right = np.histogram2d(right_end_locations_x, right_end_locations_y, bins=[120, 80], range=[[0, 120], [0, 80]])\n",
    "\n",
    "# Plot using mplsoccer\n",
    "pitch = Pitch(pitch_type='statsbomb', pitch_length=120, pitch_width=80)  # Create the soccer field\n",
    "fig, ax = pitch.draw(figsize=(10, 6))  # Create the figure and axis for the pitch\n",
    "\n",
    "# Plot the heatmap on top of the field\n",
    "pos = ax.imshow(heatmap_data.T, extent=[0, 120, 0, 80], origin='lower', cmap='bwr', alpha=0.6)\n",
    "\n",
    "# Add color bar\n",
    "cbar = fig.colorbar(pos, ax=ax)\n",
    "cbar.set_label('Corner End Frequency')\n",
    "\n",
    "plt.title('Heatmap of Corner End Locations')\n",
    "# Plot heatmap for left corners\n",
    "fig_left, ax_left = pitch.draw(figsize=(10, 6))\n",
    "pos_left = ax_left.imshow(left_heatmap_data.T, extent=[0, 120, 0, 80], origin='lower', cmap='bwr', alpha=0.6)\n",
    "cbar_left = fig_left.colorbar(pos_left, ax=ax_left)\n",
    "cbar_left.set_label('Corner End Frequency (Left Corners)')\n",
    "plt.title('Heatmap of Corner End Locations (Left Corners)')\n",
    "\n",
    "# Plot heatmap for right corners\n",
    "fig_right, ax_right = pitch.draw(figsize=(10, 6))\n",
    "pos_right = ax_right.imshow(right_heatmap_data.T, extent=[0, 120, 0, 80], origin='lower', cmap='bwr', alpha=0.6)\n",
    "cbar_right = fig_right.colorbar(pos_right, ax=ax_right)\n",
    "cbar_right.set_label('Corner End Frequency (Right Corners)')\n",
    "plt.title('Heatmap of Corner End Locations (Right Corners)')\n",
    "plt.show()"
   ],
   "metadata": {
    "collapsed": false,
    "pycharm": {
     "name": "#%%\n"
    }
   }
  },
  {
   "cell_type": "markdown",
   "source": [
    "Here it is interesting to see that corners from the right seem to be closer to the goal in the box while corners from the left seem to be more between the goal box and the penalty mark. The easiest explanation for this would be that more players are right footers and right corner with the right foot is inswining while a corner from the left with the right foot is outswining, so let's take a look at this hypothesis"
   ],
   "metadata": {
    "collapsed": false,
    "pycharm": {
     "name": "#%% md\n"
    }
   }
  },
  {
   "cell_type": "code",
   "execution_count": null,
   "outputs": [],
   "source": [
    "corner_foot_stats = {\n",
    "    'left': {'right_foot': 0, 'left_foot': 0, 'unknown': 0},\n",
    "    'right': {'right_foot': 0, 'left_foot': 0, 'unknown': 0}\n",
    "}\n",
    "\n",
    "# Loop through each corner pass and determine the player's foot and corner side\n",
    "for event in passes:\n",
    "    # Get the starting location of the corner\n",
    "    start_x, start_y = event['location']\n",
    "\n",
    "    # Identify the foot used\n",
    "    try:\n",
    "        foot_used = event['pass']['body_part']['name'].lower() if 'body_part' in event['pass'] else 'unknown'\n",
    "    except KeyError:\n",
    "        print(event)\n",
    "\n",
    "    # Corners from the left (either from 0,0 or 120,80)\n",
    "    if (start_x < 1 and start_y < 1) or (start_x > 119 and start_y > 79):\n",
    "        if foot_used == 'right foot':\n",
    "            corner_foot_stats['left']['right_foot'] += 1\n",
    "        elif foot_used == 'left foot':\n",
    "            corner_foot_stats['left']['left_foot'] += 1\n",
    "        else:\n",
    "            corner_foot_stats['left']['unknown'] += 1\n",
    "\n",
    "    # Corners from the right (either from 0,80 or 120,0)\n",
    "    elif (start_x < 1 and start_y > 79) or (start_x > 119 and start_y < 1):\n",
    "        if foot_used == 'right foot':\n",
    "            corner_foot_stats['right']['right_foot'] += 1\n",
    "        elif foot_used == 'left foot':\n",
    "            corner_foot_stats['right']['left_foot'] += 1\n",
    "        else:\n",
    "            corner_foot_stats['right']['unknown'] += 1\n",
    "\n",
    "# Calculate total corners from left and right\n",
    "total_left_corners = sum(corner_foot_stats['left'].values())\n",
    "total_right_corners = sum(corner_foot_stats['right'].values())\n",
    "\n",
    "# Calculate the percentage of corners for each foot preference\n",
    "left_right_foot_percent = (corner_foot_stats['left'][\n",
    "                               'right_foot'] / total_left_corners) * 100 if total_left_corners > 0 else 0\n",
    "left_left_foot_percent = (corner_foot_stats['left'][\n",
    "                              'left_foot'] / total_left_corners) * 100 if total_left_corners > 0 else 0\n",
    "\n",
    "right_right_foot_percent = (corner_foot_stats['right'][\n",
    "                                'right_foot'] / total_right_corners) * 100 if total_right_corners > 0 else 0\n",
    "right_left_foot_percent = (corner_foot_stats['right'][\n",
    "                               'left_foot'] / total_right_corners) * 100 if total_right_corners > 0 else 0\n",
    "\n",
    "# Output the results\n",
    "print(f\"Total corners from the left: {total_left_corners}\")\n",
    "print(f\"Right-footed corners from the left: {left_right_foot_percent:.2f}%\")\n",
    "print(f\"Left-footed corners from the left: {left_left_foot_percent:.2f}%\")\n",
    "\n",
    "print(f\"\\nTotal corners from the right: {total_right_corners}\")\n",
    "print(f\"Right-footed corners from the right: {right_right_foot_percent:.2f}%\")\n",
    "print(f\"Left-footed corners from the right: {right_left_foot_percent:.2f}%\")"
   ],
   "metadata": {
    "collapsed": false,
    "pycharm": {
     "name": "#%%\n"
    }
   }
  },
  {
   "cell_type": "markdown",
   "source": [
    "This seems to support the idea since on both corners from the right and left the majority of players use their right foot, so let's take a look in the data"
   ],
   "metadata": {
    "collapsed": false,
    "pycharm": {
     "name": "#%% md\n"
    }
   }
  },
  {
   "cell_type": "code",
   "execution_count": null,
   "outputs": [],
   "source": [
    "end_locations = {\n",
    "    'left_right_foot': {'x': [], 'y': []},\n",
    "    'left_left_foot': {'x': [], 'y': []},\n",
    "    'right_right_foot': {'x': [], 'y': []},\n",
    "    'right_left_foot': {'x': [], 'y': []}\n",
    "}\n",
    "\n",
    "# Loop through each corner pass and separate them by foot and side\n",
    "for event in passes:\n",
    "    # Get the starting location of the corner\n",
    "    start_x, start_y = event['location']\n",
    "\n",
    "    # Identify the foot used\n",
    "    foot_used = event['pass']['body_part']['name'].lower() if 'body_part' in event['pass'] else 'unknown'\n",
    "\n",
    "    # Corners from the left (either from 0,0 or 120,80)\n",
    "    if  (start_x > 119 and start_y > 79):\n",
    "        # Normalize coordinates if from 120,80\n",
    "        end_x = 120 - event['pass']['end_location'][0]\n",
    "        end_y = 80 - event['pass']['end_location'][1]\n",
    "\n",
    "        if foot_used == 'right foot':\n",
    "            end_locations['left_right_foot']['x'].append(end_x)\n",
    "            end_locations['left_right_foot']['y'].append(end_y)\n",
    "        elif foot_used == 'left foot':\n",
    "            end_locations['left_left_foot']['x'].append(end_x)\n",
    "            end_locations['left_left_foot']['y'].append(end_y)\n",
    "\n",
    "    # Corners from the right (either from 0,80 or 120,0)\n",
    "    elif (start_x > 119 and start_y < 1):\n",
    "        end_x = event['pass']['end_location'][0]\n",
    "        end_y =  event['pass']['end_location'][1]\n",
    "        if foot_used == 'right foot':\n",
    "            end_locations['right_right_foot']['x'].append(end_x)\n",
    "            end_locations['right_right_foot']['y'].append(end_y)\n",
    "        elif foot_used == 'left foot':\n",
    "            end_locations['right_left_foot']['x'].append(end_x)\n",
    "            end_locations['right_left_foot']['y'].append(end_y)\n",
    "\n",
    "\n",
    "# Helper function to create heatmaps\n",
    "def plot_heatmap(end_x, end_y, title, ax):\n",
    "    heatmap_data, xedges, yedges = np.histogram2d(end_x, end_y, bins=[120, 80], range=[[0, 120], [0, 80]])\n",
    "    pos = ax.imshow(heatmap_data.T, extent=[0, 120, 0, 80], origin='lower', cmap='coolwarm', alpha=0.6)\n",
    "    ax.set_title(title)\n",
    "    return pos\n",
    "\n",
    "\n",
    "# Create the pitch\n",
    "pitch = Pitch(pitch_type='statsbomb', pitch_length=120, pitch_width=80)\n",
    "\n",
    "# Set up the figure for 4 subplots\n",
    "fig, axs = plt.subplots(2, 2, figsize=(15, 10))\n",
    "fig.suptitle('Heatmaps of Corner End Locations by Foot and Side')\n",
    "\n",
    "# Plot heatmaps for each side and foot\n",
    "pos1 = plot_heatmap(end_locations['left_right_foot']['x'], end_locations['left_right_foot']['y'], 'Left Corners (Right Foot)', axs[0, 0])\n",
    "pos2 = plot_heatmap(end_locations['left_left_foot']['x'], end_locations['left_left_foot']['y'], 'Left Corners (Left Foot)', axs[0, 1])\n",
    "pos3 = plot_heatmap(end_locations['right_right_foot']['x'], end_locations['right_right_foot']['y'], 'Right Corners (Right Foot)', axs[1, 0])\n",
    "pos4 = plot_heatmap(end_locations['right_left_foot']['x'], end_locations['right_left_foot']['y'], 'Right Corners (Left Foot)', axs[1, 1])\n",
    "\n",
    "# Adjust the layout to place the color bar outside the subplots\n",
    "plt.subplots_adjust(right=0.85)\n",
    "cbar_ax = fig.add_axes([0.88, 0.15, 0.03, 0.7])  # Color bar axis to the right of the plots\n",
    "cbar = fig.colorbar(pos1, cax=cbar_ax)\n",
    "cbar.set_label('Corner End Frequency')\n",
    "\n",
    "# Draw the soccer field on each subplot\n",
    "for ax in axs.flat:\n",
    "    pitch.draw(ax=ax)\n",
    "\n",
    "plt.tight_layout(rect=[0, 0, 0.85, 1])  # Adjust layout to leave space for the color bar\n",
    "plt.show()"
   ],
   "metadata": {
    "collapsed": false,
    "pycharm": {
     "name": "#%%\n"
    }
   }
  },
  {
   "cell_type": "markdown",
   "source": [
    "Indeed the Heatmap proof that right foot corners from the right resp. left foot corners from the left land more frequntly in the goal area, while right foot corners from the left resp. left foot corners from the right tend to land between penalty mark and goal area. Since from both sides more right foot corners are taken this explains the inbalance in the landing spot between right corners and left corners"
   ],
   "metadata": {
    "collapsed": false,
    "pycharm": {
     "name": "#%% md\n"
    }
   }
  },
  {
   "cell_type": "markdown",
   "source": [
    "## 2b) Use the 360 data for the few matches where they are available, to see if you can find effective defensive set-ups."
   ],
   "metadata": {
    "collapsed": false,
    "pycharm": {
     "name": "#%% md\n"
    }
   }
  },
  {
   "cell_type": "markdown",
   "source": [
    "For this task I just analyze the set-ups during corners without taking into account the results of the corners. If I would have more time I could dig deeper in this regard but for now I anlyze based on the idea that what everybody else does must be good.\\"
   ],
   "metadata": {
    "collapsed": false,
    "pycharm": {
     "name": "#%% md\n"
    }
   }
  },
  {
   "cell_type": "markdown",
   "source": [
    "### Analyzing the number of players in the box during a corner"
   ],
   "metadata": {
    "collapsed": false,
    "pycharm": {
     "name": "#%% md\n"
    }
   }
  },
  {
   "cell_type": "code",
   "execution_count": null,
   "outputs": [],
   "source": [
    "corners_file = 'all_360_corners.json'\n",
    "\n",
    "\n",
    "# Helper function to check if a player is inside a given rectangular area\n",
    "def is_inside_box(location, box_corners):\n",
    "    x, y = location\n",
    "    (x1, y1), (x2, y2) = box_corners\n",
    "    return x1 <= x <= x2 and y1 <= y <= y2\n",
    "\n",
    "\n",
    "# Define the boxes and goal areas (as all corners are by statsbomb defintion are taken from the 120er length corner only the right boxes are relevant)\n",
    "box_right = [(102, 18), (120, 62)]\n",
    "box_left = [(0, 18), (18, 62)]\n",
    "goal_area_right = [(114, 30), (120, 50)]\n",
    "goal_area_left = [(0, 30), (6, 50)]\n",
    "\n",
    "# Load the consolidated corner events data\n",
    "with open(corners_file, 'r') as file:\n",
    "    corners_data = json.load(file)\n",
    "\n",
    "\n",
    "# Initialize counters\n",
    "total_corners = 0\n",
    "total_defensive_in_frame = 0\n",
    "total_offensive_in_frame = 0\n",
    "total_defensive_in_box = 0\n",
    "total_offensive_in_box = 0\n",
    "total_defensive_in_goal_area = 0\n",
    "total_offensive_in_goal_area = 0\n",
    "\n",
    "# Iterate over all the corner events in the consolidated file\n",
    "for event in corners_data:\n",
    "    total_corners += 1\n",
    "    freeze_frame = event.get('freeze_frame', [])\n",
    "    corner_location = event.get('location', [])\n",
    "\n",
    "    # Initialize counters for the current event\n",
    "    defensive_in_frame = 0\n",
    "    offensive_in_frame = 0\n",
    "    defensive_in_box = 0\n",
    "    offensive_in_box = 0\n",
    "    defensive_in_goal_area = 0\n",
    "    offensive_in_goal_area = 0\n",
    "\n",
    "    # Count players in various regions\n",
    "    for player in freeze_frame:\n",
    "        location = player['location']\n",
    "        teammate = player['teammate']\n",
    "\n",
    "        # Count offensive and defensive players in the frame\n",
    "        if teammate:\n",
    "            offensive_in_frame += 1\n",
    "            if is_inside_box(location, box_right):\n",
    "                offensive_in_box += 1\n",
    "            if is_inside_box(location, goal_area_right):\n",
    "                offensive_in_goal_area += 1\n",
    "        else:\n",
    "            defensive_in_frame += 1\n",
    "            if is_inside_box(location, box_right):\n",
    "                defensive_in_box += 1\n",
    "            if is_inside_box(location, goal_area_right):\n",
    "                defensive_in_goal_area += 1\n",
    "    # Accumulate totals\n",
    "    total_defensive_in_frame += defensive_in_frame\n",
    "    total_offensive_in_frame += offensive_in_frame\n",
    "    total_defensive_in_box += defensive_in_box\n",
    "    total_offensive_in_box += offensive_in_box\n",
    "    total_defensive_in_goal_area += defensive_in_goal_area\n",
    "    total_offensive_in_goal_area += offensive_in_goal_area\n",
    "\n",
    "avg_defensive_in_frame = total_defensive_in_frame / total_corners\n",
    "avg_offensive_in_frame = total_offensive_in_frame / total_corners\n",
    "avg_defensive_in_box = total_defensive_in_box / total_corners\n",
    "avg_offensive_in_box = total_offensive_in_box / total_corners\n",
    "avg_defensive_in_goal_area = total_defensive_in_goal_area / total_corners\n",
    "avg_offensive_in_goal_area = total_offensive_in_goal_area / total_corners\n",
    "\n",
    "print(f'Total number of corners: {total_corners}')\n",
    "\n",
    "print(f\"Average Defensive Players in Frame: {avg_defensive_in_frame}\")\n",
    "print(f\"Average Offensive Players in Frame: {avg_offensive_in_frame}\")\n",
    "print(f\"Average Defensive Players in Box: {avg_defensive_in_box}\")\n",
    "print(f\"Average Offensive Players in Box: {avg_offensive_in_box}\")\n",
    "print(f\"Average Defensive Players in Goal Area: {avg_defensive_in_goal_area}\")\n",
    "print(f\"Average Offensive Players in Goal Area: {avg_offensive_in_goal_area}\")"
   ],
   "metadata": {
    "collapsed": false,
    "pycharm": {
     "name": "#%%\n"
    }
   }
  },
  {
   "cell_type": "markdown",
   "source": [
    "It becomes clear that from a defensive perspective it is impotant to have many players in the box and especially in the goal area"
   ],
   "metadata": {
    "collapsed": false,
    "pycharm": {
     "name": "#%% md\n"
    }
   }
  },
  {
   "cell_type": "markdown",
   "source": [
    "### Analyzing the positions of the defensive players during a corner"
   ],
   "metadata": {
    "collapsed": false,
    "pycharm": {
     "name": "#%% md\n"
    }
   }
  },
  {
   "cell_type": "code",
   "execution_count": null,
   "outputs": [],
   "source": [
    "# Initialize lists to store defensive player positions\n",
    "# Initialize lists to store defensive player positions\n",
    "defensive_positions_left_x = []\n",
    "defensive_positions_left_y = []\n",
    "defensive_positions_right_x = []\n",
    "defensive_positions_right_y = []\n",
    "\n",
    "# Loop through the corner events and collect defensive player positions\n",
    "for event in corners_data:\n",
    "    freeze_frame = event.get('freeze_frame', [])\n",
    "    corner_location = event.get('location', [])\n",
    "\n",
    "    # Determine the side of the corner and collect defensive player positions\n",
    "    if corner_location == [120, 0.1]:  # Right corner\n",
    "        for player in freeze_frame:\n",
    "            if not player['teammate']:  # Defensive player\n",
    "                defensive_positions_right_x.append(player['location'][0])\n",
    "                defensive_positions_right_y.append(player['location'][1])\n",
    "\n",
    "    elif corner_location == [120, 80]:  # Left corner\n",
    "        for player in freeze_frame:\n",
    "            if not player['teammate']:  # Defensive player\n",
    "                defensive_positions_left_x.append(120-player['location'][0])\n",
    "                defensive_positions_left_y.append(80-player['location'][1])\n",
    "\n",
    "# Create heatmap data using numpy's 2D histogram for left corners\n",
    "print(len(defensive_positions_left_x))\n",
    "left_heatmap_data, xedges_left, yedges_left = np.histogram2d(defensive_positions_left_x, defensive_positions_left_y,\n",
    "                                                             bins=[120, 80], range=[[0, 120], [0, 80]])\n",
    "\n",
    "# Create heatmap data using numpy's 2D histogram for right corners\n",
    "right_heatmap_data, xedges_right, yedges_right = np.histogram2d(defensive_positions_right_x,\n",
    "                                                                defensive_positions_right_y, bins=[120, 80],\n",
    "                                                                range=[[0, 120], [0, 80]])\n",
    "\n",
    "# Initialize the pitch for plotting\n",
    "pitch = Pitch(pitch_type='statsbomb', pitch_length=120, pitch_width=80)  # Create the soccer field\n",
    "\n",
    "# Plot heatmap for corners taken from the left\n",
    "fig_left, ax_left = pitch.draw(figsize=(10, 6))  # Create the figure and axis for the pitch\n",
    "pos_left = ax_left.imshow(left_heatmap_data.T, extent=[0, 120, 0, 80], origin='lower', cmap='Reds', alpha=0.6)\n",
    "ax_left.set_title(\"Heatmap of Defensive Player Positions\\nCorners taken from the left\", fontsize=16)\n",
    "plt.colorbar(pos_left, ax=ax_left)\n",
    "\n",
    "# Plot heatmap for corners taken from the right\n",
    "fig_right, ax_right = pitch.draw(figsize=(10, 6))  # Create the figure and axis for the pitch\n",
    "pos_right = ax_right.imshow(right_heatmap_data.T, extent=[0, 120, 0, 80], origin='lower', cmap='Reds', alpha=0.6)\n",
    "ax_right.set_title(\"Heatmap of Defensive Player Positions\\nCorners taken from the right\", fontsize=16)\n",
    "plt.colorbar(pos_right, ax=ax_right)\n",
    "plt.show()"
   ],
   "metadata": {
    "collapsed": false,
    "pycharm": {
     "name": "#%%\n"
    }
   }
  },
  {
   "cell_type": "markdown",
   "source": [
    "It becomes clear that should 1-2 player at or in front of the near post in the goal area, another 2-3 players (including the goalkeeper) in the goal area between the near and far post. The remaining defensive player should be penalty mark and goal box but more orientated to the far post. Moreover, from the data ist looks most defensive players are behind the imaginary line between the penalty mark and corner of the goal box and goal line at the near post"
   ],
   "metadata": {
    "collapsed": false,
    "pycharm": {
     "name": "#%% md\n"
    }
   }
  },
  {
   "cell_type": "markdown",
   "source": [
    "### Deep-Dive into the positioning of the players"
   ],
   "metadata": {
    "collapsed": false,
    "pycharm": {
     "name": "#%% md\n"
    }
   }
  },
  {
   "cell_type": "markdown",
   "source": [
    "For the analysis of the positions we divide the box further as shown below"
   ],
   "metadata": {
    "collapsed": false,
    "pycharm": {
     "name": "#%% md\n"
    }
   }
  },
  {
   "cell_type": "code",
   "execution_count": null,
   "outputs": [],
   "source": [
    "# Initialize the pitch for plotting\n",
    "pitch = Pitch(pitch_type='statsbomb', pitch_length=120, pitch_width=80)\n",
    "\n",
    "# Create the figure and axis for the pitch\n",
    "fig, ax = pitch.draw(figsize=(10, 6))\n",
    "\n",
    "# Define and plot the goal areas\n",
    "# Right goal area: (114, 30) to (120, 36)\n",
    "right_goal_area = Rectangle((114, 30), 6, 6, linewidth=2, edgecolor='blue', facecolor='blue', alpha=0.3)\n",
    "ax.add_patch(right_goal_area)\n",
    "ax.text(117, 33, \"Right Goal Area\", color='black', fontsize=10, ha='center')\n",
    "\n",
    "# Middle goal area: (114, 36) to (120, 44)\n",
    "middle_goal_area = Rectangle((114, 36), 6, 8, linewidth=2, edgecolor='green', facecolor='green', alpha=0.3)\n",
    "ax.add_patch(middle_goal_area)\n",
    "ax.text(117, 40, \"Middle Goal Area\", color='black', fontsize=10, ha='center')\n",
    "\n",
    "# Left goal area: (114, 44) to (120, 50)\n",
    "left_goal_area = Rectangle((114, 44), 6, 6, linewidth=2, edgecolor='red', facecolor='red', alpha=0.3)\n",
    "ax.add_patch(left_goal_area)\n",
    "ax.text(117, 47, \"Left Goal Area\", color='black', fontsize=10, ha='center')\n",
    "\n",
    "# Define and plot the box areas\n",
    "# Right box area: (102, 18) to (120, 30)\n",
    "right_box_area = Rectangle((102, 18), 18, 12, linewidth=2, edgecolor='yellow', facecolor='yellow', alpha=0.3)\n",
    "ax.add_patch(right_box_area)\n",
    "ax.text(111, 24, \"Right Box Area\", color='black', fontsize=10, ha='center')\n",
    "\n",
    "# Right penalty zone: (102, 30) to (114, 40)\n",
    "right_penalty_zone = Rectangle((102, 30), 12, 10, linewidth=2, edgecolor='purple', facecolor='purple', alpha=0.3)\n",
    "ax.add_patch(right_penalty_zone)\n",
    "ax.text(108, 35, \"Right Penalty Zone\", color='black', fontsize=10, ha='center')\n",
    "\n",
    "# Left penalty zone: (102, 40) to (114, 50)\n",
    "left_penalty_zone = Rectangle((102, 40), 12, 10, linewidth=2, edgecolor='orange', facecolor='orange', alpha=0.3)\n",
    "ax.add_patch(left_penalty_zone)\n",
    "ax.text(108, 45, \"Left Penalty Zone\", color='black', fontsize=10, ha='center')\n",
    "\n",
    "# Left box area: (102, 50) to (120, 62)\n",
    "left_box_area = Rectangle((102, 50), 18, 12, linewidth=2, edgecolor='cyan', facecolor='cyan', alpha=0.3)\n",
    "ax.add_patch(left_box_area)\n",
    "ax.text(111, 56, \"Left Box Area\", color='black', fontsize=10, ha='center')\n",
    "\n",
    "# Add a title\n",
    "ax.set_title(\"Divided Goal Area and Box Regions with Labels\", fontsize=16)\n",
    "\n",
    "# Show the plot\n",
    "plt.show()"
   ],
   "metadata": {
    "collapsed": false,
    "pycharm": {
     "name": "#%%\n"
    }
   }
  },
  {
   "cell_type": "markdown",
   "source": [
    "Based on this areas we can analyze the positioning of the defensive players further"
   ],
   "metadata": {
    "collapsed": false,
    "pycharm": {
     "name": "#%% md\n"
    }
   }
  },
  {
   "cell_type": "code",
   "execution_count": null,
   "outputs": [],
   "source": [
    "def is_inside_box(location, box_corners):\n",
    "    x, y = location\n",
    "    (x1, y1), (x2, y2) = box_corners\n",
    "    return x1 <= x <= x2 and y1 <= y <= y2\n",
    "\n",
    "\n",
    "# Define the zones\n",
    "zones = {\n",
    "    'right_goal_area': [(114, 30), (120, 36)],\n",
    "    'middle_goal_area': [(114, 36), (120, 44)],\n",
    "    'left_goal_area': [(114, 44), (120, 50)],\n",
    "    'right_box_area': [(102, 18), (120, 30)],\n",
    "    'right_penalty_zone': [(102, 30), (114, 40)],\n",
    "    'left_penalty_zone': [(102, 40), (114, 50)],\n",
    "    'left_box_area': [(102, 50), (120, 62)]\n",
    "}\n",
    "\n",
    "# Initialize counters\n",
    "defensive_counts_left = {zone: 0 for zone in zones}  # For left corners\n",
    "defensive_counts_right = {zone: 0 for zone in zones}  # For right corners\n",
    "left_corner_count = 0\n",
    "right_corner_count = 0\n",
    "\n",
    "# Loop through the corner events and count defensive players in each zone\n",
    "for event in corners_data:\n",
    "    freeze_frame = event.get('freeze_frame', [])\n",
    "    corner_location = event.get('location', [])\n",
    "\n",
    "    # Check if it's a left or right corner\n",
    "    if corner_location == [120, 0.1]:  # Right corner\n",
    "        right_corner_count += 1\n",
    "        for player in freeze_frame:\n",
    "            if not player['teammate']:  # Defensive player\n",
    "                player_location = player['location']\n",
    "\n",
    "                # Check if the player is inside any of the defined zones\n",
    "                for zone_name, (bottom_left, top_right) in zones.items():\n",
    "                    if is_inside_box(player_location, (bottom_left, top_right)):\n",
    "                        defensive_counts_right[zone_name] += 1\n",
    "\n",
    "    elif corner_location == [120, 80]:  # Left corner\n",
    "        left_corner_count += 1\n",
    "        for player in freeze_frame:\n",
    "            if not player['teammate']:  # Defensive player\n",
    "                player_location = player['location']\n",
    "\n",
    "                # Check if the player is inside any of the defined zones\n",
    "                for zone_name, (bottom_left, top_right) in zones.items():\n",
    "                    if is_inside_box(player_location, (bottom_left, top_right)):\n",
    "                        defensive_counts_left[zone_name] += 1\n",
    "\n",
    "\n",
    "# Calculate averages\n",
    "def calculate_average(counts, total_corners):\n",
    "    if total_corners == 0:\n",
    "        return {zone: 0 for zone in counts}  # Avoid division by zero\n",
    "    return {zone: counts[zone] / total_corners for zone in counts}\n",
    "\n",
    "\n",
    "average_defensive_left = calculate_average(defensive_counts_left, left_corner_count)\n",
    "average_defensive_right = calculate_average(defensive_counts_right, right_corner_count)\n",
    "\n",
    "# Print the results\n",
    "print(f\"Total left corners: {left_corner_count}\")\n",
    "print(\"Average Number of Defensive Players in Each Zone During Left Corners:\")\n",
    "for zone, avg in average_defensive_left.items():\n",
    "    print(f\"{zone}: {avg:.2f}\")\n",
    "\n",
    "print(f\"\\nTotal right corners: {right_corner_count}\")\n",
    "print(\"Average Number of Defensive Players in Each Zone During Right Corners:\")\n",
    "for zone, avg in average_defensive_right.items():\n",
    "    print(f\"{zone}: {avg:.2f}\")"
   ],
   "metadata": {
    "collapsed": false,
    "pycharm": {
     "name": "#%%\n"
    }
   }
  },
  {
   "cell_type": "code",
   "execution_count": null,
   "outputs": [],
   "source": [
    "# Initialize the pitch for plotting\n",
    "pitch = Pitch(pitch_type='statsbomb', pitch_length=120, pitch_width=80)\n",
    "\n",
    "# Create the figure and axis for the pitch\n",
    "fig, ax = pitch.draw(figsize=(10, 6))\n",
    "\n",
    "# Define and plot the goal areas\n",
    "# Right goal area: (114, 30) to (120, 36)\n",
    "right_goal_area = Rectangle((114, 30), 6, 6, linewidth=2, edgecolor='blue', facecolor='blue', alpha=0.3)\n",
    "ax.add_patch(right_goal_area)\n",
    "ax.text(117, 33, \"1-2\", color='black', fontsize=10, ha='center')\n",
    "\n",
    "# Middle goal area: (114, 36) to (120, 44)\n",
    "middle_goal_area = Rectangle((114, 36), 6, 8, linewidth=2, edgecolor='green', facecolor='green', alpha=0.3)\n",
    "ax.add_patch(middle_goal_area)\n",
    "ax.text(117, 40, \"3-4\", color='black', fontsize=10, ha='center')\n",
    "\n",
    "# Left goal area: (114, 44) to (120, 50)\n",
    "left_goal_area = Rectangle((114, 44), 6, 6, linewidth=2, edgecolor='red', facecolor='red', alpha=0.3)\n",
    "ax.add_patch(left_goal_area)\n",
    "ax.text(117, 47, \"0\", color='black', fontsize=10, ha='center')\n",
    "\n",
    "# Define and plot the box areas\n",
    "# Right box area: (102, 18) to (120, 30)\n",
    "right_box_area = Rectangle((102, 18), 18, 12, linewidth=2, edgecolor='yellow', facecolor='yellow', alpha=0.3)\n",
    "ax.add_patch(right_box_area)\n",
    "ax.text(111, 24, \"0-1\", color='black', fontsize=10, ha='center')\n",
    "\n",
    "# Right penalty zone: (102, 30) to (114, 40)\n",
    "right_penalty_zone = Rectangle((102, 30), 12, 10, linewidth=2, edgecolor='purple', facecolor='purple', alpha=0.3)\n",
    "ax.add_patch(right_penalty_zone)\n",
    "ax.text(108, 35, \"1-2\", color='black', fontsize=10, ha='center')\n",
    "\n",
    "# Left penalty zone: (102, 40) to (114, 50)\n",
    "left_penalty_zone = Rectangle((102, 40), 12, 10, linewidth=2, edgecolor='orange', facecolor='orange', alpha=0.3)\n",
    "ax.add_patch(left_penalty_zone)\n",
    "ax.text(108, 45, \"2-3\", color='black', fontsize=10, ha='center')\n",
    "\n",
    "# Left box area: (102, 50) to (120, 62)\n",
    "left_box_area = Rectangle((102, 50), 18, 12, linewidth=2, edgecolor='cyan', facecolor='cyan', alpha=0.3)\n",
    "ax.add_patch(left_box_area)\n",
    "ax.text(111, 56, \"0\", color='black', fontsize=10, ha='center')\n",
    "\n",
    "# Add a title\n",
    "ax.set_title(\"Player positioning for left corners\", fontsize=16)\n",
    "\n",
    "# Show the plot\n",
    "plt.show()"
   ],
   "metadata": {
    "collapsed": false,
    "pycharm": {
     "name": "#%%\n"
    }
   }
  },
  {
   "cell_type": "code",
   "execution_count": null,
   "outputs": [],
   "source": [
    "# Initialize the pitch for plotting\n",
    "pitch = Pitch(pitch_type='statsbomb', pitch_length=120, pitch_width=80)\n",
    "\n",
    "# Create the figure and axis for the pitch\n",
    "fig, ax = pitch.draw(figsize=(10, 6))\n",
    "\n",
    "# Define and plot the goal areas\n",
    "# Right goal area: (114, 30) to (120, 36)\n",
    "right_goal_area = Rectangle((114, 30), 6, 6, linewidth=2, edgecolor='blue', facecolor='blue', alpha=0.3)\n",
    "ax.add_patch(right_goal_area)\n",
    "ax.text(117, 33, \"0\", color='black', fontsize=10, ha='center')\n",
    "\n",
    "# Middle goal area: (114, 36) to (120, 44)\n",
    "middle_goal_area = Rectangle((114, 36), 6, 8, linewidth=2, edgecolor='green', facecolor='green', alpha=0.3)\n",
    "ax.add_patch(middle_goal_area)\n",
    "ax.text(117, 40, \"3-4\", color='black', fontsize=10, ha='center')\n",
    "\n",
    "# Left goal area: (114, 44) to (120, 50)\n",
    "left_goal_area = Rectangle((114, 44), 6, 6, linewidth=2, edgecolor='red', facecolor='red', alpha=0.3)\n",
    "ax.add_patch(left_goal_area)\n",
    "ax.text(117, 47, \"1-2\", color='black', fontsize=10, ha='center')\n",
    "\n",
    "# Define and plot the box areas\n",
    "# Right box area: (102, 18) to (120, 30)\n",
    "right_box_area = Rectangle((102, 18), 18, 12, linewidth=2, edgecolor='yellow', facecolor='yellow', alpha=0.3)\n",
    "ax.add_patch(right_box_area)\n",
    "ax.text(111, 24, \"0\", color='black', fontsize=10, ha='center')\n",
    "\n",
    "# Right penalty zone: (102, 30) to (114, 40)\n",
    "right_penalty_zone = Rectangle((102, 30), 12, 10, linewidth=2, edgecolor='purple', facecolor='purple', alpha=0.3)\n",
    "ax.add_patch(right_penalty_zone)\n",
    "ax.text(108, 35, \"2-3\", color='black', fontsize=10, ha='center')\n",
    "\n",
    "# Left penalty zone: (102, 40) to (114, 50)\n",
    "left_penalty_zone = Rectangle((102, 40), 12, 10, linewidth=2, edgecolor='orange', facecolor='orange', alpha=0.3)\n",
    "ax.add_patch(left_penalty_zone)\n",
    "ax.text(108, 45, \"2\", color='black', fontsize=10, ha='center')\n",
    "\n",
    "# Left box area: (102, 50) to (120, 62)\n",
    "left_box_area = Rectangle((102, 50), 18, 12, linewidth=2, edgecolor='cyan', facecolor='cyan', alpha=0.3)\n",
    "ax.add_patch(left_box_area)\n",
    "ax.text(111, 56, \"0-1\", color='black', fontsize=10, ha='center')\n",
    "\n",
    "# Add a title\n",
    "ax.set_title(\"Player positioning for left corners\", fontsize=16)\n",
    "\n",
    "# Show the plot\n",
    "plt.show()"
   ],
   "metadata": {
    "collapsed": false,
    "pycharm": {
     "name": "#%%\n"
    }
   }
  },
  {
   "cell_type": "markdown",
   "source": [
    "## Summary\n"
   ],
   "metadata": {
    "collapsed": false,
    "pycharm": {
     "name": "#%% md\n"
    }
   }
  },
  {
   "cell_type": "markdown",
   "source": [
    "This analysis gives a basis understanding and overview of corners in professional soccer. In the first part some general trend were identified. Especially rreagrding the end location of the corner we identified interesting insights such as that right corners more frequently in the goal area than left corners. We also identidied the reason for this as more right footers take corners.\\\n",
    "In the second part, we idnetified how many defensive players should be in the areas of the penalty box.  "
   ],
   "metadata": {
    "collapsed": false,
    "pycharm": {
     "name": "#%% md\n"
    }
   }
  },
  {
   "cell_type": "markdown",
   "source": [
    "## Limitations"
   ],
   "metadata": {
    "collapsed": false,
    "pycharm": {
     "name": "#%% md\n"
    }
   }
  },
  {
   "cell_type": "markdown",
   "source": [
    "Obviously this analysis is only a brief overview of what is possible and has several limitatons that could be improved with more time (and more data). For exmaple\n",
    "1) I am sure there is much more interesting insights hidden reagrding offensive trends. For example it would be very interesting to use position data to see general offensive positioning trends but also at which situations of a match which type of corners are used, etc.\n",
    "2) Both during the offensive and defensive analysis i disregarded the results of the corners. I would be interesting to see which corners lead to offensive and defensive success\n",
    "3) I also disregarded the offensive players in the analysis of the positioning of the defensive players. This obviously is not realistic as the defensive schema should at least to a certain extent depend on the offensive positioning during corners "
   ],
   "metadata": {
    "collapsed": false,
    "pycharm": {
     "name": "#%% md\n"
    }
   }
  },
  {
   "cell_type": "code",
   "execution_count": 6,
   "metadata": {
    "collapsed": false,
    "pycharm": {
     "name": "#%%\n"
    }
   },
   "outputs": [
    {
     "name": "stdout",
     "output_type": "stream",
     "text": [
      "Total corners from the left: 17018\n",
      "Right-footed corners from the left: 60.34%\n",
      "Left-footed corners from the left: 39.66%\n",
      "\n",
      "Total corners from the right: 14186\n",
      "Right-footed corners from the right: 70.49%\n",
      "Left-footed corners from the right: 29.51%\n"
     ]
    }
   ],
   "source": [
    "corner_foot_stats = {\n",
    "    'left': {'right_foot': 0, 'left_foot': 0, 'unknown': 0},\n",
    "    'right': {'right_foot': 0, 'left_foot': 0, 'unknown': 0}\n",
    "}\n",
    "\n",
    "# Loop through each corner pass and determine the player's foot and corner side\n",
    "for event in passes:\n",
    "    # Get the starting location of the corner\n",
    "    start_x, start_y = event['location']\n",
    "\n",
    "    # Identify the foot used\n",
    "    try:\n",
    "        foot_used = event['pass']['body_part']['name'].lower() if 'body_part' in event['pass'] else 'unknown'\n",
    "    except KeyError:\n",
    "        print(event)\n",
    "\n",
    "    # Corners from the left (either from 0,0 or 120,80)\n",
    "    if (start_x < 1 and start_y < 1) or (start_x > 119 and start_y > 79):\n",
    "        if foot_used == 'right foot':\n",
    "            corner_foot_stats['left']['right_foot'] += 1\n",
    "        elif foot_used == 'left foot':\n",
    "            corner_foot_stats['left']['left_foot'] += 1\n",
    "        else:\n",
    "            corner_foot_stats['left']['unknown'] += 1\n",
    "\n",
    "    # Corners from the right (either from 0,80 or 120,0)\n",
    "    elif (start_x < 1 and start_y > 79) or (start_x > 119 and start_y < 1):\n",
    "        if foot_used == 'right foot':\n",
    "            corner_foot_stats['right']['right_foot'] += 1\n",
    "        elif foot_used == 'left foot':\n",
    "            corner_foot_stats['right']['left_foot'] += 1\n",
    "        else:\n",
    "            corner_foot_stats['right']['unknown'] += 1\n",
    "\n",
    "# Calculate total corners from left and right\n",
    "total_left_corners = sum(corner_foot_stats['left'].values())\n",
    "total_right_corners = sum(corner_foot_stats['right'].values())\n",
    "\n",
    "# Calculate the percentage of corners for each foot preference\n",
    "left_right_foot_percent = (corner_foot_stats['left'][\n",
    "                               'right_foot'] / total_left_corners) * 100 if total_left_corners > 0 else 0\n",
    "left_left_foot_percent = (corner_foot_stats['left'][\n",
    "                              'left_foot'] / total_left_corners) * 100 if total_left_corners > 0 else 0\n",
    "\n",
    "right_right_foot_percent = (corner_foot_stats['right'][\n",
    "                                'right_foot'] / total_right_corners) * 100 if total_right_corners > 0 else 0\n",
    "right_left_foot_percent = (corner_foot_stats['right'][\n",
    "                               'left_foot'] / total_right_corners) * 100 if total_right_corners > 0 else 0\n",
    "\n",
    "# Output the results\n",
    "print(f\"Total corners from the left: {total_left_corners}\")\n",
    "print(f\"Right-footed corners from the left: {left_right_foot_percent:.2f}%\")\n",
    "print(f\"Left-footed corners from the left: {left_left_foot_percent:.2f}%\")\n",
    "\n",
    "print(f\"\\nTotal corners from the right: {total_right_corners}\")\n",
    "print(f\"Right-footed corners from the right: {right_right_foot_percent:.2f}%\")\n",
    "print(f\"Left-footed corners from the right: {right_left_foot_percent:.2f}%\")"
   ]
  },
  {
   "cell_type": "markdown",
   "metadata": {},
   "source": [
    "This seems to support the idea since on both corners from the right and left the majority of players use their right foot, so let's take a look in the data"
   ]
  },
  {
   "cell_type": "code",
   "execution_count": 8,
   "metadata": {
    "pycharm": {
     "name": "#%%\n"
    }
   },
   "outputs": [
    {
     "data": {
      "image/png": "[encoded data removed]",
      "text/plain": [
       "<Figure size 1500x1000 with 5 Axes>"
      ]
     },
     "metadata": {},
     "output_type": "display_data"
    }
   ],
   "source": [
    "end_locations = {\n",
    "    'left_right_foot': {'x': [], 'y': []},\n",
    "    'left_left_foot': {'x': [], 'y': []},\n",
    "    'right_right_foot': {'x': [], 'y': []},\n",
    "    'right_left_foot': {'x': [], 'y': []}\n",
    "}\n",
    "\n",
    "# Loop through each corner pass and separate them by foot and side\n",
    "for event in passes:\n",
    "    # Get the starting location of the corner\n",
    "    start_x, start_y = event['location']\n",
    "\n",
    "    # Identify the foot used\n",
    "    foot_used = event['pass']['body_part']['name'].lower() if 'body_part' in event['pass'] else 'unknown'\n",
    "\n",
    "    # Corners from the left (either from 0,0 or 120,80)\n",
    "    if  (start_x > 119 and start_y > 79):\n",
    "        # Normalize coordinates if from 120,80\n",
    "        end_x = 120 - event['pass']['end_location'][0]\n",
    "        end_y = 80 - event['pass']['end_location'][1]\n",
    "\n",
    "        if foot_used == 'right foot':\n",
    "            end_locations['left_right_foot']['x'].append(end_x)\n",
    "            end_locations['left_right_foot']['y'].append(end_y)\n",
    "        elif foot_used == 'left foot':\n",
    "            end_locations['left_left_foot']['x'].append(end_x)\n",
    "            end_locations['left_left_foot']['y'].append(end_y)\n",
    "\n",
    "    # Corners from the right (either from 0,80 or 120,0)\n",
    "    elif (start_x > 119 and start_y < 1):\n",
    "        end_x = event['pass']['end_location'][0]\n",
    "        end_y =  event['pass']['end_location'][1]\n",
    "        if foot_used == 'right foot':\n",
    "            end_locations['right_right_foot']['x'].append(end_x)\n",
    "            end_locations['right_right_foot']['y'].append(end_y)\n",
    "        elif foot_used == 'left foot':\n",
    "            end_locations['right_left_foot']['x'].append(end_x)\n",
    "            end_locations['right_left_foot']['y'].append(end_y)\n",
    "\n",
    "\n",
    "# Helper function to create heatmaps\n",
    "def plot_heatmap(end_x, end_y, title, ax):\n",
    "    heatmap_data, xedges, yedges = np.histogram2d(end_x, end_y, bins=[120, 80], range=[[0, 120], [0, 80]])\n",
    "    pos = ax.imshow(heatmap_data.T, extent=[0, 120, 0, 80], origin='lower', cmap='coolwarm', alpha=0.6)\n",
    "    ax.set_title(title)\n",
    "    return pos\n",
    "\n",
    "\n",
    "# Create the pitch\n",
    "pitch = Pitch(pitch_type='statsbomb', pitch_length=120, pitch_width=80)\n",
    "\n",
    "# Set up the figure for 4 subplots\n",
    "fig, axs = plt.subplots(2, 2, figsize=(15, 10))\n",
    "fig.suptitle('Heatmaps of Corner End Locations by Foot and Side')\n",
    "\n",
    "# Plot heatmaps for each side and foot\n",
    "pos1 = plot_heatmap(end_locations['left_right_foot']['x'], end_locations['left_right_foot']['y'], 'Left Corners (Right Foot)', axs[0, 0])\n",
    "pos2 = plot_heatmap(end_locations['left_left_foot']['x'], end_locations['left_left_foot']['y'], 'Left Corners (Left Foot)', axs[0, 1])\n",
    "pos3 = plot_heatmap(end_locations['right_right_foot']['x'], end_locations['right_right_foot']['y'], 'Right Corners (Right Foot)', axs[1, 0])\n",
    "pos4 = plot_heatmap(end_locations['right_left_foot']['x'], end_locations['right_left_foot']['y'], 'Right Corners (Left Foot)', axs[1, 1])\n",
    "\n",
    "# Adjust the layout to place the color bar outside the subplots\n",
    "plt.subplots_adjust(right=0.85)\n",
    "cbar_ax = fig.add_axes([0.88, 0.15, 0.03, 0.7])  # Color bar axis to the right of the plots\n",
    "cbar = fig.colorbar(pos1, cax=cbar_ax)\n",
    "cbar.set_label('Corner End Frequency')\n",
    "\n",
    "# Draw the soccer field on each subplot\n",
    "for ax in axs.flat:\n",
    "    pitch.draw(ax=ax)\n",
    "\n",
    "plt.tight_layout(rect=[0, 0, 0.85, 1])  # Adjust layout to leave space for the color bar\n",
    "plt.show()"
   ]
  },
  {
   "cell_type": "markdown",
   "metadata": {},
   "source": [
    "Indeed the Heatmap proof that right foot corners from the right resp. left foot corners from the left land more frequntly in the goal area, while right foot corners from the left resp. left foot corners from the right tend to land between penalty mark and goal area. Since from both sides more right foot corners are taken this explains the inbalance in the landing spot between right corners and left corners"
   ]
  },
  {
   "cell_type": "markdown",
   "metadata": {},
   "source": [
    "## 2b) Use the 360 data for the few matches where they are available, to see if you can find effective defensive set-ups."
   ]
  },
  {
   "cell_type": "markdown",
   "metadata": {},
   "source": [
    "For this task I just analyze the set-ups during corners without taking into account the results of the corners. If I would have more time I could dig deeper in this regard but for now I anlyze based on the idea that what everybody else does must be good.\\"
   ]
  },
  {
   "cell_type": "markdown",
   "metadata": {},
   "source": [
    "### Analyzing the number of players in the box during a corner"
   ]
  },
  {
   "cell_type": "code",
   "execution_count": 12,
   "metadata": {},
   "outputs": [
    {
     "name": "stdout",
     "output_type": "stream",
     "text": [
      "Total number of corners: 1738\n",
      "Average Defensive Players in Frame: 10.558112773302646\n",
      "Average Offensive Players in Frame: 8.143843498273878\n",
      "Average Defensive Players in Box: 9.823935558112773\n",
      "Average Offensive Players in Box: 5.441887226697354\n",
      "Average Defensive Players in Goal Area: 5.002876869965478\n",
      "Average Offensive Players in Goal Area: 1.5701956271576525\n"
     ]
    }
   ],
   "source": [
    "corners_file = 'all_360_corners.json'\n",
    "\n",
    "\n",
    "# Helper function to check if a player is inside a given rectangular area\n",
    "def is_inside_box(location, box_corners):\n",
    "    x, y = location\n",
    "    (x1, y1), (x2, y2) = box_corners\n",
    "    return x1 <= x <= x2 and y1 <= y <= y2\n",
    "\n",
    "\n",
    "# Define the boxes and goal areas (as all corners are by statsbomb defintion are taken from the 120er length corner only the right boxes are relevant)\n",
    "box_right = [(102, 18), (120, 62)]\n",
    "box_left = [(0, 18), (18, 62)]\n",
    "goal_area_right = [(114, 30), (120, 50)]\n",
    "goal_area_left = [(0, 30), (6, 50)]\n",
    "\n",
    "# Load the consolidated corner events data\n",
    "with open(corners_file, 'r') as file:\n",
    "    corners_data = json.load(file)\n",
    "\n",
    "\n",
    "# Initialize counters\n",
    "total_corners = 0\n",
    "total_defensive_in_frame = 0\n",
    "total_offensive_in_frame = 0\n",
    "total_defensive_in_box = 0\n",
    "total_offensive_in_box = 0\n",
    "total_defensive_in_goal_area = 0\n",
    "total_offensive_in_goal_area = 0\n",
    "\n",
    "# Iterate over all the corner events in the consolidated file\n",
    "for event in corners_data:\n",
    "    total_corners += 1\n",
    "    freeze_frame = event.get('freeze_frame', [])\n",
    "    corner_location = event.get('location', [])\n",
    "\n",
    "    # Initialize counters for the current event\n",
    "    defensive_in_frame = 0\n",
    "    offensive_in_frame = 0\n",
    "    defensive_in_box = 0\n",
    "    offensive_in_box = 0\n",
    "    defensive_in_goal_area = 0\n",
    "    offensive_in_goal_area = 0\n",
    "\n",
    "    # Count players in various regions\n",
    "    for player in freeze_frame:\n",
    "        location = player['location']\n",
    "        teammate = player['teammate']\n",
    "\n",
    "        # Count offensive and defensive players in the frame\n",
    "        if teammate:\n",
    "            offensive_in_frame += 1\n",
    "            if is_inside_box(location, box_right):\n",
    "                offensive_in_box += 1\n",
    "            if is_inside_box(location, goal_area_right):\n",
    "                offensive_in_goal_area += 1\n",
    "        else:\n",
    "            defensive_in_frame += 1\n",
    "            if is_inside_box(location, box_right):\n",
    "                defensive_in_box += 1\n",
    "            if is_inside_box(location, goal_area_right):\n",
    "                defensive_in_goal_area += 1\n",
    "    # Accumulate totals\n",
    "    total_defensive_in_frame += defensive_in_frame\n",
    "    total_offensive_in_frame += offensive_in_frame\n",
    "    total_defensive_in_box += defensive_in_box\n",
    "    total_offensive_in_box += offensive_in_box\n",
    "    total_defensive_in_goal_area += defensive_in_goal_area\n",
    "    total_offensive_in_goal_area += offensive_in_goal_area\n",
    "\n",
    "avg_defensive_in_frame = total_defensive_in_frame / total_corners\n",
    "avg_offensive_in_frame = total_offensive_in_frame / total_corners\n",
    "avg_defensive_in_box = total_defensive_in_box / total_corners\n",
    "avg_offensive_in_box = total_offensive_in_box / total_corners\n",
    "avg_defensive_in_goal_area = total_defensive_in_goal_area / total_corners\n",
    "avg_offensive_in_goal_area = total_offensive_in_goal_area / total_corners\n",
    "\n",
    "print(f'Total number of corners: {total_corners}')\n",
    "\n",
    "print(f\"Average Defensive Players in Frame: {avg_defensive_in_frame}\")\n",
    "print(f\"Average Offensive Players in Frame: {avg_offensive_in_frame}\")\n",
    "print(f\"Average Defensive Players in Box: {avg_defensive_in_box}\")\n",
    "print(f\"Average Offensive Players in Box: {avg_offensive_in_box}\")\n",
    "print(f\"Average Defensive Players in Goal Area: {avg_defensive_in_goal_area}\")\n",
    "print(f\"Average Offensive Players in Goal Area: {avg_offensive_in_goal_area}\")"
   ]
  },
  {
   "cell_type": "markdown",
   "metadata": {},
   "source": [
    "It becomes clear that from a defensive perspective it is impotant to have many players in the box and especially in the goal area"
   ]
  },
  {
   "cell_type": "markdown",
   "metadata": {},
   "source": [
    "### Analyzing the positions of the defensive players during a corner"
   ]
  },
  {
   "cell_type": "code",
   "execution_count": 15,
   "metadata": {},
   "outputs": [
    {
     "name": "stdout",
     "output_type": "stream",
     "text": [
      "10001\n"
     ]
    },
    {
     "data": {
      "image/png": "[encoded data removed]",
      "text/plain": [
       "<Figure size 1000x600 with 2 Axes>"
      ]
     },
     "metadata": {},
     "output_type": "display_data"
    },
    {
     "data": {
      "image/png": "[encoded data removed]",
      "text/plain": [
       "<Figure size 1000x600 with 2 Axes>"
      ]
     },
     "metadata": {},
     "output_type": "display_data"
    }
   ],
   "source": [
    "# Initialize lists to store defensive player positions\n",
    "# Initialize lists to store defensive player positions\n",
    "defensive_positions_left_x = []\n",
    "defensive_positions_left_y = []\n",
    "defensive_positions_right_x = []\n",
    "defensive_positions_right_y = []\n",
    "\n",
    "# Loop through the corner events and collect defensive player positions\n",
    "for event in corners_data:\n",
    "    freeze_frame = event.get('freeze_frame', [])\n",
    "    corner_location = event.get('location', [])\n",
    "\n",
    "    # Determine the side of the corner and collect defensive player positions\n",
    "    if corner_location == [120, 0.1]:  # Right corner\n",
    "        for player in freeze_frame:\n",
    "            if not player['teammate']:  # Defensive player\n",
    "                defensive_positions_right_x.append(player['location'][0])\n",
    "                defensive_positions_right_y.append(player['location'][1])\n",
    "\n",
    "    elif corner_location == [120, 80]:  # Left corner\n",
    "        for player in freeze_frame:\n",
    "            if not player['teammate']:  # Defensive player\n",
    "                defensive_positions_left_x.append(120-player['location'][0])\n",
    "                defensive_positions_left_y.append(80-player['location'][1])\n",
    "\n",
    "# Create heatmap data using numpy's 2D histogram for left corners\n",
    "print(len(defensive_positions_left_x))\n",
    "left_heatmap_data, xedges_left, yedges_left = np.histogram2d(defensive_positions_left_x, defensive_positions_left_y,\n",
    "                                                             bins=[120, 80], range=[[0, 120], [0, 80]])\n",
    "\n",
    "# Create heatmap data using numpy's 2D histogram for right corners\n",
    "right_heatmap_data, xedges_right, yedges_right = np.histogram2d(defensive_positions_right_x,\n",
    "                                                                defensive_positions_right_y, bins=[120, 80],\n",
    "                                                                range=[[0, 120], [0, 80]])\n",
    "\n",
    "# Initialize the pitch for plotting\n",
    "pitch = Pitch(pitch_type='statsbomb', pitch_length=120, pitch_width=80)  # Create the soccer field\n",
    "\n",
    "# Plot heatmap for corners taken from the left\n",
    "fig_left, ax_left = pitch.draw(figsize=(10, 6))  # Create the figure and axis for the pitch\n",
    "pos_left = ax_left.imshow(left_heatmap_data.T, extent=[0, 120, 0, 80], origin='lower', cmap='Reds', alpha=0.6)\n",
    "ax_left.set_title(\"Heatmap of Defensive Player Positions\\nCorners taken from the left\", fontsize=16)\n",
    "plt.colorbar(pos_left, ax=ax_left)\n",
    "\n",
    "# Plot heatmap for corners taken from the right\n",
    "fig_right, ax_right = pitch.draw(figsize=(10, 6))  # Create the figure and axis for the pitch\n",
    "pos_right = ax_right.imshow(right_heatmap_data.T, extent=[0, 120, 0, 80], origin='lower', cmap='Reds', alpha=0.6)\n",
    "ax_right.set_title(\"Heatmap of Defensive Player Positions\\nCorners taken from the right\", fontsize=16)\n",
    "plt.colorbar(pos_right, ax=ax_right)\n",
    "plt.show()"
   ]
  },
  {
   "cell_type": "markdown",
   "metadata": {},
   "source": [
    "It becomes clear that should 1-2 player at or in front of the near post in the goal area, another 2-3 players (including the goalkeeper) in the goal area between the near and far post. The remaining defensive player should be penalty mark and goal box but more orientated to the far post. Moreover, from the data ist looks most defensive players are behind the imaginary line between the penalty mark and corner of the goal box and goal line at the near post"
   ]
  },
  {
   "cell_type": "markdown",
   "metadata": {},
   "source": [
    "### Deep-Dive into the positioning of the players"
   ]
  },
  {
   "cell_type": "markdown",
   "metadata": {},
   "source": [
    "For the analysis of the positions we divide the box further as shown below"
   ]
  },
  {
   "cell_type": "code",
   "execution_count": 19,
   "metadata": {},
   "outputs": [
    {
     "data": {
      "image/png": "[encoded data removed]",
      "text/plain": [
       "<Figure size 1000x600 with 1 Axes>"
      ]
     },
     "metadata": {},
     "output_type": "display_data"
    }
   ],
   "source": [
    "# Initialize the pitch for plotting\n",
    "pitch = Pitch(pitch_type='statsbomb', pitch_length=120, pitch_width=80)\n",
    "\n",
    "# Create the figure and axis for the pitch\n",
    "fig, ax = pitch.draw(figsize=(10, 6))\n",
    "\n",
    "# Define and plot the goal areas\n",
    "# Right goal area: (114, 30) to (120, 36)\n",
    "right_goal_area = Rectangle((114, 30), 6, 6, linewidth=2, edgecolor='blue', facecolor='blue', alpha=0.3)\n",
    "ax.add_patch(right_goal_area)\n",
    "ax.text(117, 33, \"Right Goal Area\", color='black', fontsize=10, ha='center')\n",
    "\n",
    "# Middle goal area: (114, 36) to (120, 44)\n",
    "middle_goal_area = Rectangle((114, 36), 6, 8, linewidth=2, edgecolor='green', facecolor='green', alpha=0.3)\n",
    "ax.add_patch(middle_goal_area)\n",
    "ax.text(117, 40, \"Middle Goal Area\", color='black', fontsize=10, ha='center')\n",
    "\n",
    "# Left goal area: (114, 44) to (120, 50)\n",
    "left_goal_area = Rectangle((114, 44), 6, 6, linewidth=2, edgecolor='red', facecolor='red', alpha=0.3)\n",
    "ax.add_patch(left_goal_area)\n",
    "ax.text(117, 47, \"Left Goal Area\", color='black', fontsize=10, ha='center')\n",
    "\n",
    "# Define and plot the box areas\n",
    "# Right box area: (102, 18) to (120, 30)\n",
    "right_box_area = Rectangle((102, 18), 18, 12, linewidth=2, edgecolor='yellow', facecolor='yellow', alpha=0.3)\n",
    "ax.add_patch(right_box_area)\n",
    "ax.text(111, 24, \"Right Box Area\", color='black', fontsize=10, ha='center')\n",
    "\n",
    "# Right penalty zone: (102, 30) to (114, 40)\n",
    "right_penalty_zone = Rectangle((102, 30), 12, 10, linewidth=2, edgecolor='purple', facecolor='purple', alpha=0.3)\n",
    "ax.add_patch(right_penalty_zone)\n",
    "ax.text(108, 35, \"Right Penalty Zone\", color='black', fontsize=10, ha='center')\n",
    "\n",
    "# Left penalty zone: (102, 40) to (114, 50)\n",
    "left_penalty_zone = Rectangle((102, 40), 12, 10, linewidth=2, edgecolor='orange', facecolor='orange', alpha=0.3)\n",
    "ax.add_patch(left_penalty_zone)\n",
    "ax.text(108, 45, \"Left Penalty Zone\", color='black', fontsize=10, ha='center')\n",
    "\n",
    "# Left box area: (102, 50) to (120, 62)\n",
    "left_box_area = Rectangle((102, 50), 18, 12, linewidth=2, edgecolor='cyan', facecolor='cyan', alpha=0.3)\n",
    "ax.add_patch(left_box_area)\n",
    "ax.text(111, 56, \"Left Box Area\", color='black', fontsize=10, ha='center')\n",
    "\n",
    "# Add a title\n",
    "ax.set_title(\"Divided Goal Area and Box Regions with Labels\", fontsize=16)\n",
    "\n",
    "# Show the plot\n",
    "plt.show()"
   ]
  },
  {
   "cell_type": "markdown",
   "metadata": {},
   "source": [
    "Based on this areas we can analyze the positioning of the defensive players further"
   ]
  },
  {
   "cell_type": "code",
   "execution_count": 20,
   "metadata": {},
   "outputs": [
    {
     "name": "stdout",
     "output_type": "stream",
     "text": [
      "Total left corners: 946\n",
      "Average Number of Defensive Players in Each Zone During Left Corners:\n",
      "right_goal_area: 0.25\n",
      "middle_goal_area: 3.30\n",
      "left_goal_area: 1.30\n",
      "right_box_area: 0.03\n",
      "right_penalty_zone: 2.50\n",
      "left_penalty_zone: 1.92\n",
      "left_box_area: 0.54\n",
      "\n",
      "Total right corners: 792\n",
      "Average Number of Defensive Players in Each Zone During Right Corners:\n",
      "right_goal_area: 1.40\n",
      "middle_goal_area: 3.53\n",
      "left_goal_area: 0.26\n",
      "right_box_area: 0.62\n",
      "right_penalty_zone: 1.74\n",
      "left_penalty_zone: 2.22\n",
      "left_box_area: 0.04\n"
     ]
    }
   ],
   "source": [
    "def is_inside_box(location, box_corners):\n",
    "    x, y = location\n",
    "    (x1, y1), (x2, y2) = box_corners\n",
    "    return x1 <= x <= x2 and y1 <= y <= y2\n",
    "\n",
    "\n",
    "# Define the zones\n",
    "zones = {\n",
    "    'right_goal_area': [(114, 30), (120, 36)],\n",
    "    'middle_goal_area': [(114, 36), (120, 44)],\n",
    "    'left_goal_area': [(114, 44), (120, 50)],\n",
    "    'right_box_area': [(102, 18), (120, 30)],\n",
    "    'right_penalty_zone': [(102, 30), (114, 40)],\n",
    "    'left_penalty_zone': [(102, 40), (114, 50)],\n",
    "    'left_box_area': [(102, 50), (120, 62)]\n",
    "}\n",
    "\n",
    "# Initialize counters\n",
    "defensive_counts_left = {zone: 0 for zone in zones}  # For left corners\n",
    "defensive_counts_right = {zone: 0 for zone in zones}  # For right corners\n",
    "left_corner_count = 0\n",
    "right_corner_count = 0\n",
    "\n",
    "# Loop through the corner events and count defensive players in each zone\n",
    "for event in corners_data:\n",
    "    freeze_frame = event.get('freeze_frame', [])\n",
    "    corner_location = event.get('location', [])\n",
    "\n",
    "    # Check if it's a left or right corner\n",
    "    if corner_location == [120, 0.1]:  # Right corner\n",
    "        right_corner_count += 1\n",
    "        for player in freeze_frame:\n",
    "            if not player['teammate']:  # Defensive player\n",
    "                player_location = player['location']\n",
    "\n",
    "                # Check if the player is inside any of the defined zones\n",
    "                for zone_name, (bottom_left, top_right) in zones.items():\n",
    "                    if is_inside_box(player_location, (bottom_left, top_right)):\n",
    "                        defensive_counts_right[zone_name] += 1\n",
    "\n",
    "    elif corner_location == [120, 80]:  # Left corner\n",
    "        left_corner_count += 1\n",
    "        for player in freeze_frame:\n",
    "            if not player['teammate']:  # Defensive player\n",
    "                player_location = player['location']\n",
    "\n",
    "                # Check if the player is inside any of the defined zones\n",
    "                for zone_name, (bottom_left, top_right) in zones.items():\n",
    "                    if is_inside_box(player_location, (bottom_left, top_right)):\n",
    "                        defensive_counts_left[zone_name] += 1\n",
    "\n",
    "\n",
    "# Calculate averages\n",
    "def calculate_average(counts, total_corners):\n",
    "    if total_corners == 0:\n",
    "        return {zone: 0 for zone in counts}  # Avoid division by zero\n",
    "    return {zone: counts[zone] / total_corners for zone in counts}\n",
    "\n",
    "\n",
    "average_defensive_left = calculate_average(defensive_counts_left, left_corner_count)\n",
    "average_defensive_right = calculate_average(defensive_counts_right, right_corner_count)\n",
    "\n",
    "# Print the results\n",
    "print(f\"Total left corners: {left_corner_count}\")\n",
    "print(\"Average Number of Defensive Players in Each Zone During Left Corners:\")\n",
    "for zone, avg in average_defensive_left.items():\n",
    "    print(f\"{zone}: {avg:.2f}\")\n",
    "\n",
    "print(f\"\\nTotal right corners: {right_corner_count}\")\n",
    "print(\"Average Number of Defensive Players in Each Zone During Right Corners:\")\n",
    "for zone, avg in average_defensive_right.items():\n",
    "    print(f\"{zone}: {avg:.2f}\")"
   ]
  },
  {
   "cell_type": "code",
   "execution_count": 22,
   "metadata": {},
   "outputs": [
    {
     "data": {
      "image/png": "[encoded data removed]",
      "text/plain": [
       "<Figure size 1000x600 with 1 Axes>"
      ]
     },
     "metadata": {},
     "output_type": "display_data"
    }
   ],
   "source": [
    "# Initialize the pitch for plotting\n",
    "pitch = Pitch(pitch_type='statsbomb', pitch_length=120, pitch_width=80)\n",
    "\n",
    "# Create the figure and axis for the pitch\n",
    "fig, ax = pitch.draw(figsize=(10, 6))\n",
    "\n",
    "# Define and plot the goal areas\n",
    "# Right goal area: (114, 30) to (120, 36)\n",
    "right_goal_area = Rectangle((114, 30), 6, 6, linewidth=2, edgecolor='blue', facecolor='blue', alpha=0.3)\n",
    "ax.add_patch(right_goal_area)\n",
    "ax.text(117, 33, \"1-2\", color='black', fontsize=10, ha='center')\n",
    "\n",
    "# Middle goal area: (114, 36) to (120, 44)\n",
    "middle_goal_area = Rectangle((114, 36), 6, 8, linewidth=2, edgecolor='green', facecolor='green', alpha=0.3)\n",
    "ax.add_patch(middle_goal_area)\n",
    "ax.text(117, 40, \"3-4\", color='black', fontsize=10, ha='center')\n",
    "\n",
    "# Left goal area: (114, 44) to (120, 50)\n",
    "left_goal_area = Rectangle((114, 44), 6, 6, linewidth=2, edgecolor='red', facecolor='red', alpha=0.3)\n",
    "ax.add_patch(left_goal_area)\n",
    "ax.text(117, 47, \"0\", color='black', fontsize=10, ha='center')\n",
    "\n",
    "# Define and plot the box areas\n",
    "# Right box area: (102, 18) to (120, 30)\n",
    "right_box_area = Rectangle((102, 18), 18, 12, linewidth=2, edgecolor='yellow', facecolor='yellow', alpha=0.3)\n",
    "ax.add_patch(right_box_area)\n",
    "ax.text(111, 24, \"0-1\", color='black', fontsize=10, ha='center')\n",
    "\n",
    "# Right penalty zone: (102, 30) to (114, 40)\n",
    "right_penalty_zone = Rectangle((102, 30), 12, 10, linewidth=2, edgecolor='purple', facecolor='purple', alpha=0.3)\n",
    "ax.add_patch(right_penalty_zone)\n",
    "ax.text(108, 35, \"1-2\", color='black', fontsize=10, ha='center')\n",
    "\n",
    "# Left penalty zone: (102, 40) to (114, 50)\n",
    "left_penalty_zone = Rectangle((102, 40), 12, 10, linewidth=2, edgecolor='orange', facecolor='orange', alpha=0.3)\n",
    "ax.add_patch(left_penalty_zone)\n",
    "ax.text(108, 45, \"2-3\", color='black', fontsize=10, ha='center')\n",
    "\n",
    "# Left box area: (102, 50) to (120, 62)\n",
    "left_box_area = Rectangle((102, 50), 18, 12, linewidth=2, edgecolor='cyan', facecolor='cyan', alpha=0.3)\n",
    "ax.add_patch(left_box_area)\n",
    "ax.text(111, 56, \"0\", color='black', fontsize=10, ha='center')\n",
    "\n",
    "# Add a title\n",
    "ax.set_title(\"Player positioning for left corners\", fontsize=16)\n",
    "\n",
    "# Show the plot\n",
    "plt.show()"
   ]
  },
  {
   "cell_type": "code",
   "execution_count": 21,
   "metadata": {},
   "outputs": [
    {
     "data": {
      "image/png": "[encoded data removed]",
      "text/plain": [
       "<Figure size 1000x600 with 1 Axes>"
      ]
     },
     "metadata": {},
     "output_type": "display_data"
    }
   ],
   "source": [
    "# Initialize the pitch for plotting\n",
    "pitch = Pitch(pitch_type='statsbomb', pitch_length=120, pitch_width=80)\n",
    "\n",
    "# Create the figure and axis for the pitch\n",
    "fig, ax = pitch.draw(figsize=(10, 6))\n",
    "\n",
    "# Define and plot the goal areas\n",
    "# Right goal area: (114, 30) to (120, 36)\n",
    "right_goal_area = Rectangle((114, 30), 6, 6, linewidth=2, edgecolor='blue', facecolor='blue', alpha=0.3)\n",
    "ax.add_patch(right_goal_area)\n",
    "ax.text(117, 33, \"0\", color='black', fontsize=10, ha='center')\n",
    "\n",
    "# Middle goal area: (114, 36) to (120, 44)\n",
    "middle_goal_area = Rectangle((114, 36), 6, 8, linewidth=2, edgecolor='green', facecolor='green', alpha=0.3)\n",
    "ax.add_patch(middle_goal_area)\n",
    "ax.text(117, 40, \"3-4\", color='black', fontsize=10, ha='center')\n",
    "\n",
    "# Left goal area: (114, 44) to (120, 50)\n",
    "left_goal_area = Rectangle((114, 44), 6, 6, linewidth=2, edgecolor='red', facecolor='red', alpha=0.3)\n",
    "ax.add_patch(left_goal_area)\n",
    "ax.text(117, 47, \"1-2\", color='black', fontsize=10, ha='center')\n",
    "\n",
    "# Define and plot the box areas\n",
    "# Right box area: (102, 18) to (120, 30)\n",
    "right_box_area = Rectangle((102, 18), 18, 12, linewidth=2, edgecolor='yellow', facecolor='yellow', alpha=0.3)\n",
    "ax.add_patch(right_box_area)\n",
    "ax.text(111, 24, \"0\", color='black', fontsize=10, ha='center')\n",
    "\n",
    "# Right penalty zone: (102, 30) to (114, 40)\n",
    "right_penalty_zone = Rectangle((102, 30), 12, 10, linewidth=2, edgecolor='purple', facecolor='purple', alpha=0.3)\n",
    "ax.add_patch(right_penalty_zone)\n",
    "ax.text(108, 35, \"2-3\", color='black', fontsize=10, ha='center')\n",
    "\n",
    "# Left penalty zone: (102, 40) to (114, 50)\n",
    "left_penalty_zone = Rectangle((102, 40), 12, 10, linewidth=2, edgecolor='orange', facecolor='orange', alpha=0.3)\n",
    "ax.add_patch(left_penalty_zone)\n",
    "ax.text(108, 45, \"2\", color='black', fontsize=10, ha='center')\n",
    "\n",
    "# Left box area: (102, 50) to (120, 62)\n",
    "left_box_area = Rectangle((102, 50), 18, 12, linewidth=2, edgecolor='cyan', facecolor='cyan', alpha=0.3)\n",
    "ax.add_patch(left_box_area)\n",
    "ax.text(111, 56, \"0-1\", color='black', fontsize=10, ha='center')\n",
    "\n",
    "# Add a title\n",
    "ax.set_title(\"Player positioning for left corners\", fontsize=16)\n",
    "\n",
    "# Show the plot\n",
    "plt.show()"
   ]
  },
  {
   "cell_type": "markdown",
   "metadata": {},
   "source": [
    "## Summary\n"
   ]
  },
  {
   "cell_type": "markdown",
   "metadata": {},
   "source": [
    "This analysis gives a basis understanding and overview of corners in professional soccer. In the first part some general trend were identified. Especially rreagrding the end location of the corner we identified interesting insights such as that right corners more frequently in the goal area than left corners. We also identidied the reason for this as more right footers take corners.\\\n",
    "In the second part, we idnetified how many defensive players should be in the areas of the penalty box.  "
   ]
  },
  {
   "cell_type": "markdown",
   "metadata": {},
   "source": [
    "## Limitations"
   ]
  },
  {
   "cell_type": "markdown",
   "metadata": {},
   "source": [
    "Obviously this analysis is only a brief overview of what is possible and has several limitatons that could be improved with more time (and more data). For exmaple\n",
    "1) I am sure there is much more interesting insights hidden reagrding offensive trends. For example it would be very interesting to use position data to see general offensive positioning trends but also at which situations of a match which type of corners are used, etc.\n",
    "2) Both during the offensive and defensive analysis i disregarded the results of the corners. I would be interesting to see which corners lead to offensive and defensive success\n",
    "3) I also disregarded the offensive players in the analysis of the positioning of the defensive players. This obviously is not realistic as the defensive schema should at least to a certain extent depend on the offensive positioning during corners "
   ]
  }
 ],
 "metadata": {
  "kernelspec": {
   "display_name": "Python 3",
   "language": "python",
   "name": "python3"
  },
  "language_info": {
   "codemirror_mode": {
    "name": "ipython",
    "version": 3
   },
   "file_extension": ".py",
   "mimetype": "text/x-python",
   "name": "python",
   "nbconvert_exporter": "python",
   "pygments_lexer": "ipython3",
   "version": "3.10.0"
  }
 },
 "nbformat": 4,
 "nbformat_minor": 4
}